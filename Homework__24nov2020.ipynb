{
  "nbformat": 4,
  "nbformat_minor": 0,
  "metadata": {
    "colab": {
      "name": "Homework _24nov2020.ipynb",
      "provenance": [],
      "collapsed_sections": []
    },
    "kernelspec": {
      "name": "python3",
      "display_name": "Python 3"
    }
  },
  "cells": [
    {
      "cell_type": "markdown",
      "metadata": {
        "id": "JnqAs5ncLaIe"
      },
      "source": [
        "https://colab.research.google.com/drive/1UtoBM6p5ySWzaivaQP4IHWUia3bf3mYq#scrollTo=JnqAs5ncLaIe"
      ]
    },
    {
      "cell_type": "markdown",
      "metadata": {
        "id": "ScI1vBiaquHe"
      },
      "source": [
        "Задание 1\n",
        "Создайте список (list) с элементами от 1 до 10 включительно двумя разными способами:\n",
        "\n",
        "при помощи list comprehensions\n",
        "при помощи цикла for"
      ]
    },
    {
      "cell_type": "code",
      "metadata": {
        "colab": {
          "base_uri": "https://localhost:8080/"
        },
        "id": "nKKH5lszq8kW",
        "outputId": "72c282b3-cc8b-4442-844f-4c5cd0137e30"
      },
      "source": [
        "list1 = []\n",
        "for i in range (1,11):\n",
        "  list1.append(i)\n",
        "print(list1)"
      ],
      "execution_count": null,
      "outputs": [
        {
          "output_type": "stream",
          "text": [
            "[1, 2, 3, 4, 5, 6, 7, 8, 9, 10]\n"
          ],
          "name": "stdout"
        }
      ]
    },
    {
      "cell_type": "code",
      "metadata": {
        "colab": {
          "base_uri": "https://localhost:8080/"
        },
        "id": "GuNXSFzP7Pb3",
        "outputId": "f6d18e3b-2c04-4ba5-d708-af86b2789de2"
      },
      "source": [
        "list2 = [i for i in range(1,11)]\n",
        "print(list2)"
      ],
      "execution_count": null,
      "outputs": [
        {
          "output_type": "stream",
          "text": [
            "[1, 2, 3, 4, 5, 6, 7, 8, 9, 10]\n"
          ],
          "name": "stdout"
        }
      ]
    },
    {
      "cell_type": "markdown",
      "metadata": {
        "id": "7DBCG0D87ptY"
      },
      "source": [
        "Задание 2\n",
        "Создайте список (list) с четными элементами из промежутка от 1 до 10 включительно двумя разными способами:\n",
        "\n",
        "при помощи list comprehensions\n",
        "при помощи цикла for"
      ]
    },
    {
      "cell_type": "code",
      "metadata": {
        "colab": {
          "base_uri": "https://localhost:8080/"
        },
        "id": "Qkj7vQfX7z19",
        "outputId": "f1da7953-5d40-49a9-c182-e666beb7b00d"
      },
      "source": [
        "list3 = []\n",
        "for i in range(1,11):\n",
        "  if i%2 == 0:\n",
        "    list3.append(i)\n",
        "print(list3)"
      ],
      "execution_count": null,
      "outputs": [
        {
          "output_type": "stream",
          "text": [
            "[2, 4, 6, 8, 10]\n"
          ],
          "name": "stdout"
        }
      ]
    },
    {
      "cell_type": "code",
      "metadata": {
        "colab": {
          "base_uri": "https://localhost:8080/"
        },
        "id": "T3ILbASH9Kro",
        "outputId": "3e9b414f-1e2f-4ed6-b98a-7b69e241a0ac"
      },
      "source": [
        "list4 = [i for i in range(1,11) if i%2==0]\n",
        "print(list4)"
      ],
      "execution_count": null,
      "outputs": [
        {
          "output_type": "stream",
          "text": [
            "[2, 4, 6, 8, 10]\n"
          ],
          "name": "stdout"
        }
      ]
    },
    {
      "cell_type": "markdown",
      "metadata": {
        "id": "ART_Rcf8_D1Q"
      },
      "source": [
        "## Задание 3\n",
        "присвойте переменной **x** следующее значение:\n",
        "$$\n",
        "x=100^{3^{2}}-\\frac{10^{3}}{5^{2}}\n",
        "$$\n",
        "Выведите, чему теперь равна переменная **x**"
      ]
    },
    {
      "cell_type": "code",
      "metadata": {
        "colab": {
          "base_uri": "https://localhost:8080/"
        },
        "id": "jsyHFcGI-h71",
        "outputId": "e6f20d28-9dfb-413f-9a07-0021e619fb2c"
      },
      "source": [
        "x=(100**3)**2-10**3/5**2\n",
        "print(x)"
      ],
      "execution_count": null,
      "outputs": [
        {
          "output_type": "stream",
          "text": [
            "999999999960.0\n"
          ],
          "name": "stdout"
        }
      ]
    },
    {
      "cell_type": "markdown",
      "metadata": {
        "id": "gn0awqWX_fAC"
      },
      "source": [
        "Задание 4\n",
        "Найдите, истинно ли, что 3 в 15 степени больше 3000 при условии, что 3 в 7й степени меньше 7 в 5й."
      ]
    },
    {
      "cell_type": "code",
      "metadata": {
        "colab": {
          "base_uri": "https://localhost:8080/"
        },
        "id": "SShUBSF6_hHo",
        "outputId": "534bcb86-982e-4916-d873-671c6a729339"
      },
      "source": [
        "if (3**15 > 3000) and (3**7 < 7**5):\n",
        "  print (True)\n",
        "else:\n",
        "  print (False)\n"
      ],
      "execution_count": null,
      "outputs": [
        {
          "output_type": "stream",
          "text": [
            "True\n"
          ],
          "name": "stdout"
        }
      ]
    },
    {
      "cell_type": "markdown",
      "metadata": {
        "id": "fIJhD6MSA7Sm"
      },
      "source": [
        "## Задание 5\n",
        "Мы принимаем целое число на ввод с клавиатуры (код предоставлен), вывести \"цена выше рынка\", если число выше 1200, \"цена ниже рыночной\", если число меньше 800 и \"все ок\" в остальных случаях."
      ]
    },
    {
      "cell_type": "code",
      "metadata": {
        "colab": {
          "base_uri": "https://localhost:8080/"
        },
        "id": "shvByg_dDRog",
        "outputId": "e5e888fd-0797-4bf0-891c-4c659f2540b7"
      },
      "source": [
        "price = int(input('Введите цену товара: '))\n",
        "if price in range(800, 1201):\n",
        "  print ('Всё ОК')\n",
        "elif price < 800:\n",
        "  print ('Цена ниже рыночной')\n",
        "else:\n",
        "  print ('Цена выше рыночной')"
      ],
      "execution_count": null,
      "outputs": [
        {
          "output_type": "stream",
          "text": [
            "Введите цену товара: 1200\n",
            "Всё ОК\n"
          ],
          "name": "stdout"
        }
      ]
    },
    {
      "cell_type": "markdown",
      "metadata": {
        "id": "t-FCWwCmBNjV"
      },
      "source": [
        "## Задание 6\n",
        "\n",
        "Даны два словаря: dictionary_1 = {'price_1': 300, 'price_2': 400} и dictionary_2 = {'price_1': 500, 'price_3': 600}. Объедините их в один при помощи встроенных функций языка Python (методов объекта dict)."
      ]
    },
    {
      "cell_type": "code",
      "metadata": {
        "colab": {
          "base_uri": "https://localhost:8080/"
        },
        "id": "TzVp7U81zGrP",
        "outputId": "d08a3bb8-ae58-430e-f264-c081e1aeb193"
      },
      "source": [
        "dictionary_1 = {'price_1': 300, 'price_2': 400}\n",
        "dictionary_2 = {'price_1': 500, 'price_3': 600}\n",
        "dictionary_1.update(dictionary_2)\n",
        "print(dictionary_1)"
      ],
      "execution_count": null,
      "outputs": [
        {
          "output_type": "stream",
          "text": [
            "{'price_1': 500, 'price_2': 400, 'price_3': 600}\n"
          ],
          "name": "stdout"
        }
      ]
    },
    {
      "cell_type": "markdown",
      "metadata": {
        "id": "2TQGkuBH3G7j"
      },
      "source": [
        "Задание 7\n",
        "Сравните время, затраченное на вычисление частного списков list со значениями от 1 до 10^6 и время, затраченное на вычисление частного массивов типа numpy arrays со значениями от 1 до 10^6 (см. пункт \" Numpy array vs Python list\" в этом ноутбуке)\n",
        "\n",
        "Подсказка! для генерации list используйте функцию range(), для генерации numpy array - np.arange()"
      ]
    },
    {
      "cell_type": "code",
      "metadata": {
        "colab": {
          "base_uri": "https://localhost:8080/"
        },
        "id": "jfN_PdZJ3ItF",
        "outputId": "3129f3f9-3375-49db-f3bc-c810c83292c5"
      },
      "source": [
        "import numpy as np\n",
        "import time\n",
        "\n",
        "size = 1000000\n",
        "list1 = range(1, size+1)\n",
        "list2 = range(1, size+1)\n",
        "array1 = np.arange(1, size+1)\n",
        "array2 = np.arange(1, size+1)\n",
        "\n",
        "initialTime = time.time()\n",
        "\n",
        "resultantList = [(a / b) for a, b in zip(list1, list2)]\n",
        "print(\"Время деления list\", time.time() - initialTime)\n",
        "\n",
        "initialTime = time.time()\n",
        "\n",
        "resultantArray = array1 / array2\n",
        "print(\"Время деления array\", time.time() - initialTime)"
      ],
      "execution_count": null,
      "outputs": [
        {
          "output_type": "stream",
          "text": [
            "Время деления list 0.1546955108642578\n",
            "Время деления array 0.00653529167175293\n"
          ],
          "name": "stdout"
        }
      ]
    },
    {
      "cell_type": "markdown",
      "metadata": {
        "id": "xRzilsf1AN-B"
      },
      "source": [
        "Задание 8\n",
        "Напишите цикл, который выводит все числа от 0 до 500, делящиеся на 7, если в них есть цифра 8. Подсказка: переменную типа int можно привести к типу str:\n",
        "\n",
        "x = 5\n",
        "y = str(x)"
      ]
    },
    {
      "cell_type": "code",
      "metadata": {
        "colab": {
          "base_uri": "https://localhost:8080/"
        },
        "id": "WqEx-NrtFrt-",
        "outputId": "87b3ffc1-59b4-4e52-fd67-8b98b79c2e22"
      },
      "source": [
        "for i in range(501):\n",
        "  j = str(i)\n",
        "  for k in range(len(j)):\n",
        "    if j[k] == '8':\n",
        "      if i % 7 == 0:\n",
        "        print(i)"
      ],
      "execution_count": null,
      "outputs": [
        {
          "output_type": "stream",
          "text": [
            "28\n",
            "84\n",
            "98\n",
            "168\n",
            "182\n",
            "189\n",
            "238\n",
            "280\n",
            "287\n",
            "308\n",
            "378\n",
            "385\n",
            "448\n",
            "483\n"
          ],
          "name": "stdout"
        }
      ]
    },
    {
      "cell_type": "markdown",
      "metadata": {
        "id": "ORiF3smuGPSU"
      },
      "source": [
        "## Задание 9\n",
        "Дан массив строк mas. Одной строкой создайте словарь, в котором по ключу строки будет записана пара (кортеж длины 2) (индекс строки в массиве mas, длина строки)"
      ]
    },
    {
      "cell_type": "code",
      "metadata": {
        "colab": {
          "base_uri": "https://localhost:8080/"
        },
        "id": "WGm-xViIFwNS",
        "outputId": "571e398d-d45a-4012-9d79-9aa3f6b42d02"
      },
      "source": [
        "mas = ['abc', 'def', 'hello', 'world']\n",
        "\n",
        "dictionary_3 = {str(mas[i]) : (mas.index(mas[i]), len(str(mas[i]))) for i in range(len(mas))}\n",
        "print(dictionary_3)"
      ],
      "execution_count": null,
      "outputs": [
        {
          "output_type": "stream",
          "text": [
            "{'abc': (0, 3), 'def': (1, 3), 'hello': (2, 5), 'world': (3, 5)}\n"
          ],
          "name": "stdout"
        }
      ]
    },
    {
      "cell_type": "markdown",
      "metadata": {
        "id": "JOfOYKkNHMPy"
      },
      "source": [
        "## Задание 10\n",
        "Реализовать функцию, которая сохраняет в 2 глобальные переменные:\n",
        "сумму всех позиционных аргументов - релизовать через lambda;\n",
        "название всех именованных аргументов в виде списка."
      ]
    },
    {
      "cell_type": "code",
      "metadata": {
        "colab": {
          "base_uri": "https://localhost:8080/"
        },
        "id": "77zNsBLjelOY",
        "outputId": "00e70cfb-ecbc-4dac-bb96-56553435e540"
      },
      "source": [
        "summ = 0\n",
        "names = []\n",
        "def func_ex10(*args, **kwargs):\n",
        "  global summ\n",
        "  global names\n",
        "  func = lambda args: args[0] + args[1] + args[2]\n",
        "  summ = func(args)\n",
        "  names = list(kwargs)\n",
        "  return summ, names\n",
        "\n",
        "func_ex10(1, 2, 3, a=4, b=5)\n",
        "print('Сумма', summ, ', Названия', names)"
      ],
      "execution_count": null,
      "outputs": [
        {
          "output_type": "stream",
          "text": [
            "Сумма 6 , Названия ['a', 'b']\n"
          ],
          "name": "stdout"
        }
      ]
    }
  ]
}