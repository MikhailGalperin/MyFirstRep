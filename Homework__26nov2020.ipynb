{
  "nbformat": 4,
  "nbformat_minor": 0,
  "metadata": {
    "colab": {
      "name": "Homework _26nov2020.ipynb",
      "provenance": [],
      "collapsed_sections": [],
      "authorship_tag": "ABX9TyOJlE1NTRNbC8pU3NOH4Ltd",
      "include_colab_link": true
    },
    "kernelspec": {
      "name": "python3",
      "display_name": "Python 3"
    }
  },
  "cells": [
    {
      "cell_type": "markdown",
      "metadata": {
        "id": "view-in-github",
        "colab_type": "text"
      },
      "source": [
        "<a href=\"https://colab.research.google.com/github/MikhailGalperin/MyFirstRep/blob/main/Homework__26nov2020.ipynb\" target=\"_parent\"><img src=\"https://colab.research.google.com/assets/colab-badge.svg\" alt=\"Open In Colab\"/></a>"
      ]
    },
    {
      "cell_type": "markdown",
      "metadata": {
        "id": "fCU_IgYz9HhZ"
      },
      "source": [
        "Задание 1\n",
        "Создайте массив массив из 100 элементов (от 1 до 100), переформатируйте в формат (10 * 10), сделайте слайсинг с шагом 2 по каждой оси."
      ]
    },
    {
      "cell_type": "code",
      "metadata": {
        "id": "j5iz_57WFv0Q",
        "colab": {
          "base_uri": "https://localhost:8080/"
        },
        "outputId": "e0b14b98-3d68-4295-ffd1-eff9da80b318"
      },
      "source": [
        "import numpy as np\n",
        "array1 = np.arange(1,101)\n",
        "array2 = array1.reshape(10,10)\n",
        "array3 = array2[::2,::2]\n",
        "print(array3)"
      ],
      "execution_count": 109,
      "outputs": [
        {
          "output_type": "stream",
          "text": [
            "[[ 1  3  5  7  9]\n",
            " [21 23 25 27 29]\n",
            " [41 43 45 47 49]\n",
            " [61 63 65 67 69]\n",
            " [81 83 85 87 89]]\n"
          ],
          "name": "stdout"
        }
      ]
    },
    {
      "cell_type": "markdown",
      "metadata": {
        "id": "SrI3heKeV7nP"
      },
      "source": [
        "## Задание 2\n",
        "\n",
        "Написать функцию, которая по заданной длине последовательности находит среднее арифметическое ее членов.\n",
        "\n",
        "Реализуйте задачу с и без помощи numpy, сравните время выполнения"
      ]
    },
    {
      "cell_type": "code",
      "metadata": {
        "colab": {
          "base_uri": "https://localhost:8080/"
        },
        "id": "Dmxe7P3E-S34",
        "outputId": "f60b8a01-8201-438d-ee39-4386123be03e"
      },
      "source": [
        "%%time\n",
        "dlina_pos_1 = 100_000_000\n",
        "\n",
        "def average_1(x):\n",
        "  summ = 0\n",
        "  for i in range (1, dlina_pos_1+1):\n",
        "    summ += i\n",
        "  return summ/i\n",
        "\n",
        "print(average_1(dlina_pos_1))"
      ],
      "execution_count": 71,
      "outputs": [
        {
          "output_type": "stream",
          "text": [
            "50000000.5\n",
            "CPU times: user 5.95 s, sys: 3.94 ms, total: 5.95 s\n",
            "Wall time: 5.96 s\n"
          ],
          "name": "stdout"
        }
      ]
    },
    {
      "cell_type": "code",
      "metadata": {
        "colab": {
          "base_uri": "https://localhost:8080/"
        },
        "id": "7BGZ78_uEgKF",
        "outputId": "84db6c62-b447-484b-d09f-096ecf812a80"
      },
      "source": [
        "%%time\n",
        "import numpy as np\n",
        "dlina_pos_1 = 100_000_000\n",
        "\n",
        "def average_2(x):\n",
        "  dlina_pos_2 = np.arange(dlina_pos_1+1)\n",
        "  return(np.sum(dlina_pos_2)/dlina_pos_1)\n",
        "\n",
        "print(average_2(dlina_pos_1))"
      ],
      "execution_count": 79,
      "outputs": [
        {
          "output_type": "stream",
          "text": [
            "50000000.5\n",
            "CPU times: user 298 ms, sys: 974 µs, total: 299 ms\n",
            "Wall time: 306 ms\n"
          ],
          "name": "stdout"
        }
      ]
    },
    {
      "cell_type": "code",
      "metadata": {
        "colab": {
          "base_uri": "https://localhost:8080/"
        },
        "id": "NVH67NpkSnzS",
        "outputId": "57ff9a4b-86bc-42ee-8ca2-965adbd1a9aa"
      },
      "source": [
        "#хотя, если решать конкретную задачу, проще всего, по-моему, так:\n",
        "\n",
        "%%time\n",
        "dlina_pos_1 = 100_000_000\n",
        "\n",
        "def average_3(x):\n",
        "  return((dlina_pos_1 + 1)/2)\n",
        "\n",
        "print(average_3(dlina_pos_1))"
      ],
      "execution_count": 78,
      "outputs": [
        {
          "output_type": "stream",
          "text": [
            "50000000.5\n",
            "CPU times: user 95 µs, sys: 0 ns, total: 95 µs\n",
            "Wall time: 99.4 µs\n"
          ],
          "name": "stdout"
        }
      ]
    },
    {
      "cell_type": "markdown",
      "metadata": {
        "id": "14FbuZksan06"
      },
      "source": [
        "Задание 3 *(необязательно)\n",
        "Задан Series объект s, найти индекс первого элемента отсортированного s, где значения больше 5"
      ]
    },
    {
      "cell_type": "code",
      "metadata": {
        "colab": {
          "base_uri": "https://localhost:8080/"
        },
        "id": "n39PBQEwa14r",
        "outputId": "6ecbcad7-5472-4754-c8d6-ab8570d329d8"
      },
      "source": [
        "# задано изначально\n",
        "import numpy as np\n",
        "import pandas as pd\n",
        "r = np.random.RandomState(1)\n",
        "s = pd.Series(r.uniform(0, 10, 100))\n",
        "s = s.sort_values().reset_index(drop=True)\n",
        "\n",
        "for i in s.index:\n",
        "  if s[i] > 5:\n",
        "    break\n",
        "print(i)\n",
        "\n",
        "#проверка, что это первый больше 5\n",
        "print('проверка', '|', i-1, s[i-1], '|', i, s[i])"
      ],
      "execution_count": 181,
      "outputs": [
        {
          "output_type": "stream",
          "text": [
            "51\n",
            "проверка | 50 4.9157315928033825 | 51 5.148891120583086\n"
          ],
          "name": "stdout"
        }
      ]
    },
    {
      "cell_type": "markdown",
      "metadata": {
        "id": "lK7mPJPRWcs2"
      },
      "source": [
        "## Задание 4\n",
        "\n",
        "Предположим, что мы наблюдаем за некоторым признаком нашего датасета, но в данных есть пропуски. Ваша задача: реализовать алгоритм заполнения пропущенных значений последним известным с помощью средств python и pandas. (подсказка: вам может помочь функция np.isnan(), которая возвращает True, если число - nan. Для реализации с пандас стоит посмотреть на метод .fillna).\n",
        "\n",
        "Изначальный код с инициализацией такого датасета предоставлен."
      ]
    },
    {
      "cell_type": "code",
      "metadata": {
        "colab": {
          "base_uri": "https://localhost:8080/",
          "height": 282
        },
        "id": "9IYDc_3gHXB8",
        "outputId": "916bc986-d100-4615-aef3-c4969c49b780"
      },
      "source": [
        "import numpy as np\n",
        "import pandas as pd\n",
        "\n",
        "# импортируем библиотеку для создания шума\n",
        "import random\n",
        "# библиотека для визуализации\n",
        "import matplotlib.pyplot as plt\n",
        "\n",
        "# создадим наши данные и добавим к каждой точке синусоиды случайный шум\n",
        "a = np.linspace(0, 25, 100)\n",
        "a = np.sin(a) + [random.gauss(0, 0.2) for i in range(len(a))]\n",
        "\n",
        "# создадим 10 случайных пропусков\n",
        "for i in range(10):\n",
        "    a[random.randint(0, len(a) - 1)] = None\n",
        "# создадим датафрейм\n",
        "df = pd.DataFrame({'target':a})\n",
        "\n",
        "# ваш код тут\n",
        "for i in range(len(a)):\n",
        "  if np.isnan(a[i]):\n",
        "    a[i] = a[i-1]\n",
        "\n",
        "# отобразим\n",
        "df = pd.DataFrame({'target':a})\n",
        "plt.plot(df.target.values)"
      ],
      "execution_count": 200,
      "outputs": [
        {
          "output_type": "execute_result",
          "data": {
            "text/plain": [
              "[<matplotlib.lines.Line2D at 0x7f0735a63668>]"
            ]
          },
          "metadata": {
            "tags": []
          },
          "execution_count": 200
        },
        {
          "output_type": "display_data",
          "data": {
            "image/png": "[encoded data removed]",
            "text/plain": [
              "<Figure size 432x288 with 1 Axes>"
            ]
          },
          "metadata": {
            "tags": [],
            "needs_background": "light"
          }
        }
      ]
    },
    {
      "cell_type": "code",
      "metadata": {
        "id": "Eu5g1x-hWcA1",
        "colab": {
          "base_uri": "https://localhost:8080/",
          "height": 282
        },
        "outputId": "c172b2df-b98c-4e0f-c58e-75a69f12ae19"
      },
      "source": [
        "import numpy as np\n",
        "import pandas as pd\n",
        "\n",
        "# импортируем библиотеку для создания шума\n",
        "import random\n",
        "# библиотека для визуализации\n",
        "import matplotlib.pyplot as plt\n",
        "\n",
        "# создадим наши данные и добавим к каждой точке синусоиды случайный шум\n",
        "a = np.linspace(0, 25, 100)\n",
        "a = np.sin(a) + [random.gauss(0, 0.2) for i in range(len(a))]\n",
        "\n",
        "# создадим 10 случайных пропусков\n",
        "for i in range(10):\n",
        "    a[random.randint(0, len(a) - 1)] = None\n",
        "# создадим датафрейм\n",
        "df = pd.DataFrame({'target':a})\n",
        "\n",
        "# ваш код тут\n",
        "df = df.fillna(method = 'bfill')\n",
        "\n",
        "# отобразим\n",
        "plt.plot(df.target.values)"
      ],
      "execution_count": 207,
      "outputs": [
        {
          "output_type": "execute_result",
          "data": {
            "text/plain": [
              "[<matplotlib.lines.Line2D at 0x7f07359467b8>]"
            ]
          },
          "metadata": {
            "tags": []
          },
          "execution_count": 207
        },
        {
          "output_type": "display_data",
          "data": {
            "image/png": "[encoded data removed]",
            "text/plain": [
              "<Figure size 432x288 with 1 Axes>"
            ]
          },
          "metadata": {
            "tags": [],
            "needs_background": "light"
          }
        }
      ]
    },
    {
      "cell_type": "markdown",
      "metadata": {
        "id": "PTFU-6h0VPAV"
      },
      "source": [
        "Задание 5 *(необязательно)\n",
        "Имеется небольшой игрушечный датафрейм, в котором необходимо провести несколько типов фильтраций (ответы ищите в решениях) и отобразить результат:\n",
        "\n",
        "всех, кто старше 40\n",
        "всех, кто имеет доход выше среднего по датасету\n",
        "всех, кто имеет доход выше среднего по датасету, но надежность ниже среднего по датасету\n",
        "создать новые столбцы:\n",
        "\n",
        "важность клиента = доход * надежность\n",
        "возможная долгосрочность клиента = важность клиента * (средний возраст по датасету - возраст клиента)\n",
        "подсказка: двойные условия записываются так: (условие 1) & (условие 2)\n",
        "\n",
        "** примечание: столбцы не имеют отношения к реальным формулам или моделям, они необходимы только для наглядности"
      ]
    },
    {
      "cell_type": "code",
      "metadata": {
        "id": "kNS9jQEjVQ3h"
      },
      "source": [
        ""
      ],
      "execution_count": null,
      "outputs": []
    },
    {
      "cell_type": "code",
      "metadata": {
        "id": "vHvedF6tXAWF",
        "colab": {
          "base_uri": "https://localhost:8080/"
        },
        "outputId": "388b532c-eca2-4544-cc70-503b9c3b5836"
      },
      "source": [
        "# создадим тестовый датасет\n",
        "df = pd.DataFrame({\n",
        "    'имя': ['Петя', 'Вася', 'Аня', 'Света'],\n",
        "    'возраст': [45, 26, 41 , 21],\n",
        "    'доход': [100000, 80000, 150000, 60000],\n",
        "    'надежность клиента (0..1)': [0.65, 0.74, 0.87, 0.68],\n",
        "    'пол': ['муж', 'муж', 'жен', 'жен']},\n",
        "    index=[0, 1, 2, 3])\n",
        "\n",
        "# ваш код тут\n",
        "\n",
        "df['важность клиента'] = df['доход'] * df['надежность клиента (0..1)']\n",
        "df['возможная долгосрочность клиента'] = df['важность клиента'] * (df['возраст'] - df['возраст'].mean(axis=0))\n",
        "\n",
        "#весь датафрейм\n",
        "#возможная долгосрочность клиента рассчитана по формуле, как в задании, но в ряде случаев она получается отрицательной\n",
        "print('весь датафрейм')\n",
        "print(df)\n",
        "\n",
        "#старше сорока\n",
        "df1 = df.loc[df['возраст'] > 40]\n",
        "print()\n",
        "print('старше сорока')\n",
        "print(df1)\n",
        "\n",
        "#доход выше среднего\n",
        "df2 = df.loc[df['доход'] > df['доход'].mean(axis=0)]\n",
        "print()\n",
        "print('доход выше среднего')\n",
        "print(df2)\n",
        "\n",
        "#доход выше среднего, но надёжность ниже среднего\n",
        "df3 = df.loc[(df['доход'] > df['доход'].mean(axis=0)) & (df['надежность клиента (0..1)'] < df['надежность клиента (0..1)'].mean(axis=0))]\n",
        "print()\n",
        "print('доход выше среднего, но надёжность ниже среднего')\n",
        "print(df3)\n"
      ],
      "execution_count": 246,
      "outputs": [
        {
          "output_type": "stream",
          "text": [
            "весь датафрейм\n",
            "     имя  возраст  ...  важность клиента  возможная долгосрочность клиента\n",
            "0   Петя       45  ...           65000.0                          763750.0\n",
            "1   Вася       26  ...           59200.0                         -429200.0\n",
            "2    Аня       41  ...          130500.0                         1011375.0\n",
            "3  Света       21  ...           40800.0                         -499800.0\n",
            "\n",
            "[4 rows x 7 columns]\n",
            "\n",
            "старше сорока\n",
            "    имя  возраст  ...  важность клиента  возможная долгосрочность клиента\n",
            "0  Петя       45  ...           65000.0                          763750.0\n",
            "2   Аня       41  ...          130500.0                         1011375.0\n",
            "\n",
            "[2 rows x 7 columns]\n",
            "\n",
            "доход выше среднего\n",
            "    имя  возраст  ...  важность клиента  возможная долгосрочность клиента\n",
            "0  Петя       45  ...           65000.0                          763750.0\n",
            "2   Аня       41  ...          130500.0                         1011375.0\n",
            "\n",
            "[2 rows x 7 columns]\n",
            "\n",
            "доход выше среднего, но надёжность ниже среднего\n",
            "    имя  возраст  ...  важность клиента  возможная долгосрочность клиента\n",
            "0  Петя       45  ...           65000.0                          763750.0\n",
            "\n",
            "[1 rows x 7 columns]\n"
          ],
          "name": "stdout"
        }
      ]
    }
  ]
}