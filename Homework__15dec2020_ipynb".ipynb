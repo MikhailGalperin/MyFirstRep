{
  "nbformat": 4,
  "nbformat_minor": 0,
  "metadata": {
    "colab": {
      "name": "Homework _15dec2020.ipynb\"",
      "provenance": [],
      "collapsed_sections": [],
      "include_colab_link": true
    },
    "kernelspec": {
      "name": "python3",
      "display_name": "Python 3"
    }
  },
  "cells": [
    {
      "cell_type": "markdown",
      "metadata": {
        "id": "view-in-github",
        "colab_type": "text"
      },
      "source": [
        "<a href=\"https://colab.research.google.com/github/MikhailGalperin/MyFirstRep/blob/main/Homework__15dec2020_ipynb%22.ipynb\" target=\"_parent\"><img src=\"https://colab.research.google.com/assets/colab-badge.svg\" alt=\"Open In Colab\"/></a>"
      ]
    },
    {
      "cell_type": "markdown",
      "metadata": {
        "id": "PDkG3Bis38V_"
      },
      "source": [
        "# Домашнее задание к 7 уроку.\n",
        "\n",
        "**Дедлайн: 23.12.2020**"
      ]
    },
    {
      "cell_type": "markdown",
      "metadata": {
        "id": "T_frQ-789isH"
      },
      "source": [
        "colab: https://colab.research.google.com/drive/1KLD5pDCa0ka_g1U4D2ExihaaEwXzfTPW?usp=sharing"
      ]
    },
    {
      "cell_type": "markdown",
      "metadata": {
        "id": "PzhnPFbL3igE"
      },
      "source": [
        "**ФОРМАТ ОТЧЕТНОСТИ:** pdf-файл с решенными задачами (задачи 2-9), ноутбук с проверкой решения этих задач (при помощи numpy), и pdf файл с отчетом по 1-ой задаче (краткий пересказ статьи). Вы можете оформить решения с использованием Markdown (писать текст прямо в юпитер ноутбуке), Latex, Word или же решить в тетради и сформировать pdf из фото.\n",
        "\n",
        "Итого: 2 pdf файла.\n",
        "\n",
        "Все задания необходимо выполнять ВРУЧНУЮ. А также проверить корректность полученных результатов с использованием Numpy.\n",
        "\n",
        "Туториал как писать \"Latex-формулы\" прямо в Юпитере:\n",
        "https://www.youtube.com/watch?v=vSc25kdgecg\n",
        "\n",
        "Ноутбук с примером формул: https://nbviewer.jupyter.org/github/postlogist/course_opt/blob/master/jupyter_tutorial/02_markdown.ipynb\n"
      ]
    },
    {
      "cell_type": "markdown",
      "metadata": {
        "id": "RU2u4fG55fBq"
      },
      "source": [
        "## Пример\n",
        "\n",
        "\n",
        "Найдем ранг матрицы \n",
        "\n",
        "$$\\begin{pmatrix}\n",
        "1 & 2 & 3 & 4 & 5\\\\ \n",
        "2 & 5 & 8 & 11 & 14\\\\ \n",
        "3 & 9 & 14 & 20 & 26\\\\ \n",
        "5 & 14 & 22 & 31 & 40\n",
        "\\end{pmatrix}.$$\n",
        "\n",
        "Четвертая строка является суммой второй и третьей строк, а значит, ее можно отбросить:\n",
        "\n",
        "$$\\begin{pmatrix}\n",
        "1 & 2 & 3 & 4 & 5\\\\ \n",
        "2 & 5 & 8 & 11 & 14\\\\ \n",
        "3 & 9 & 14 & 20 & 26\n",
        "\\end{pmatrix}.$$\n",
        "\n",
        "Из второй и третьей строк вычтем первую, умноженную на $2$ и $3$ соответственно:\n",
        "\n",
        "$$\\begin{pmatrix}\n",
        "1 & 2 & 3 & 4 & 5\\\\ \n",
        "0 & 1 & 2 & 3 & 4\\\\ \n",
        "0 & 2 & 5 & 8 & 11\n",
        "\\end{pmatrix}.$$\n",
        "\n",
        "И вычтем из третьей строки вторую, умноженную на $2$:\n",
        "\n",
        "$$\\begin{pmatrix}\n",
        "1 & 2 & 3 & 4 & 5\\\\ \n",
        "0 & 1 & 2 & 3 & 4\\\\ \n",
        "0 & 0 & 1 & 2 & 3\n",
        "\\end{pmatrix}.$$\n",
        "\n",
        "Таким образом, ранг матрицы равен $3$."
      ]
    },
    {
      "cell_type": "code",
      "metadata": {
        "colab": {
          "base_uri": "https://localhost:8080/"
        },
        "id": "c3mJUpE65vak",
        "outputId": "5a5debbc-1a4a-47a5-8b35-9b40b7caf531"
      },
      "source": [
        "# Проверка\n",
        "\n",
        "import numpy as np\n",
        "a = [1, 2, 3, 4, 5]\n",
        "b = [2, 5, 8, 11, 14]\n",
        "c = [3, 9, 14, 20, 26]\n",
        "d = [5, 14, 22, 31, 40]\n",
        "\n",
        "x = np.array([a, b, c, d])\n",
        "r = np.linalg.matrix_rank(x)\n",
        "\n",
        "print(f'Ранг матрицы: {r}')"
      ],
      "execution_count": null,
      "outputs": [
        {
          "output_type": "stream",
          "text": [
            "Ранг матрицы: 3\n"
          ],
          "name": "stdout"
        }
      ]
    },
    {
      "cell_type": "markdown",
      "metadata": {
        "id": "1NlQHLnE5iV-"
      },
      "source": [
        "# Задачи"
      ]
    },
    {
      "cell_type": "markdown",
      "metadata": {
        "id": "oOoLPT-d232H"
      },
      "source": [
        "**1.** Прочитать статью http://www.scielo.org.mx/pdf/cys/v18n3/v18n3a7.pdf и сделать следующее:\n",
        "\n",
        "- Написать кратко (не более 300 слов (минимум 100), отчет в формате pdf) о различиях между cosine similarity и soft similarity. Привести примеры использования и написать собственный пример вычисления cosine similarity и soft similarity для произвольных векторов (не брать вектора из статьи! надо самим придумать координаты/размерность векторов)"
      ]
    },
    {
      "cell_type": "markdown",
      "metadata": {
        "id": "2A79cNRu3BUA"
      },
      "source": [
        "__2.__ Найти сумму и произведение матриц $A=\\begin{pmatrix}\n",
        "1 & -2\\\\ \n",
        "3 & 0\n",
        "\\end{pmatrix}$ и $B=\\begin{pmatrix}\n",
        "4 & -1\\\\ \n",
        "0 & 5\n",
        "\\end{pmatrix}.$\n",
        "\n",
        "__3.__ Из закономерностей сложения и умножения матриц на число можно сделать вывод, что матрицы одного размера образуют линейное пространство. Вычислить линейную комбинацию $3A-2B+4C$ для матриц $A=\\begin{pmatrix}\n",
        "1 & 7\\\\ \n",
        "3 & -6\n",
        "\\end{pmatrix}$, $B=\\begin{pmatrix}\n",
        "0 & 5\\\\ \n",
        "2 & -1\n",
        "\\end{pmatrix}$, $C=\\begin{pmatrix}\n",
        "2 & -4\\\\ \n",
        "1 & 1\n",
        "\\end{pmatrix}.$\n",
        "    \n",
        "__4.__ Дана матрица $A=\\begin{pmatrix}\n",
        "4 & 1\\\\ \n",
        "5 & -2\\\\ \n",
        "2 & 3\n",
        "\\end{pmatrix}$.\n",
        "Вычислить $AA^{T}$ и $A^{T}A$.\n",
        "\n",
        "__5*.__ Написать на Python функцию для перемножения двух произвольных матриц, не используя NumPy."
      ]
    },
    {
      "cell_type": "markdown",
      "metadata": {
        "id": "-naSOZaf3L7s"
      },
      "source": [
        "\n",
        "__6.__ Вычислить определитель (используйте любой удобный для вас способ вычисления определителя: через миноры, через перестановки или другой):\n",
        "\n",
        "   a)\n",
        "\n",
        "$$\\begin{vmatrix}\n",
        "sinx & -cosx\\\\ \n",
        "cosx & sinx\n",
        "\\end{vmatrix};$$\n",
        "\n",
        "   б)\n",
        "    \n",
        "$$\\begin{vmatrix}\n",
        "8 & 4 & 6\\\\ \n",
        "0 & 5 & 1\\\\ \n",
        "0 & 0 & 9\n",
        "\\end{vmatrix};$$\n",
        "    \n",
        "   в)\n",
        "\n",
        "$$\\begin{vmatrix}\n",
        "2 & 3 & 4\\\\ \n",
        "5 & 6 & 7\\\\ \n",
        "8 & 9 & 10\n",
        "\\end{vmatrix}.$$\n",
        "\n",
        "\n",
        "__7.__ Определитель матрицы $A$ равен $4$. Найти:\n",
        "\n",
        "   а) $det(A^{2})$;\n",
        "    \n",
        "   б) $det(A^{T})$;\n",
        "    \n",
        "   в) $det(2A)$.\n",
        "   \n",
        "__8.__  Доказать, что матрица\n",
        "\n",
        "$$\\begin{pmatrix}\n",
        "-2 & 7 & -3\\\\ \n",
        "4 & -14 & 6\\\\ \n",
        "-3 & 7 & 13\n",
        "\\end{pmatrix}$$\n",
        "   \n",
        "вырожденная.\n",
        "\n",
        "__9.__ Найти ранг матрицы:\n",
        "\n",
        "   а) $\\begin{pmatrix}\n",
        "1 & 2 & 3\\\\ \n",
        "1 & 1 & 1\\\\ \n",
        "2 & 3 & 4\n",
        "\\end{pmatrix};$\n",
        "\n",
        "   б) $\\begin{pmatrix}\n",
        "0 & 0 & 2 & 1\\\\ \n",
        "0 & 0 & 2 & 2\\\\ \n",
        "0 & 0 & 4 & 3\\\\ \n",
        "2 & 3 & 5 & 6\n",
        "\\end{pmatrix}.$"
      ]
    },
    {
      "cell_type": "markdown",
      "metadata": {
        "id": "ekAaqmaE3E1T"
      },
      "source": [
        "# Доп материалы\n",
        "1. [Способы задать матрицу в NumPy](https://docs.scipy.org/doc/numpy-1.10.1/user/basics.creation.html).\n",
        "2. [numpy.transpose](https://docs.scipy.org/doc/numpy-1.10.0/reference/generated/numpy.transpose.html).\n",
        "3. [array.T](https://docs.scipy.org/doc/numpy-1.10.0/reference/generated/numpy.ndarray.T.html).\n",
        "4. [Перемножение матриц в NumPy](https://docs.scipy.org/doc/numpy-1.10.0/reference/routines.linalg.html#matrix-and-vector-products).\n",
        "\n",
        "5. [Определитель матрицы в NumPy](https://docs.scipy.org/doc/numpy-1.14.2/reference/generated/numpy.linalg.det.html)\n",
        "\n",
        "6. [Ранг матрицы в NumPy](https://docs.scipy.org/doc/numpy-1.14.2/reference/generated/numpy.linalg.matrix_rank.html)\n",
        "\n",
        "7. [Обращение матриц в NumPy](https://docs.scipy.org/doc/numpy/reference/generated/numpy.linalg.inv.html)"
      ]
    },
    {
      "cell_type": "code",
      "metadata": {
        "colab": {
          "base_uri": "https://localhost:8080/"
        },
        "id": "-a6K1UUY-jKU",
        "outputId": "5955a9b7-5b09-456f-bf93-e991ac439208"
      },
      "source": [
        "# Проверка\r\n",
        "\r\n",
        "# 2. Сумма и произведение матриц.\r\n",
        "\r\n",
        "import numpy as np\r\n",
        "a1 = [1, -2]\r\n",
        "a2 = [3, 0]\r\n",
        "b1 = [4, -1]\r\n",
        "b2 = [0, 5]\r\n",
        "a = np.array([a1, a2])\r\n",
        "b = np.array([b1, b2])\r\n",
        "c = a + b\r\n",
        "d = np.dot(a, b)\r\n",
        "print('сумма матриц')\r\n",
        "print(c)\r\n",
        "print('произведение матриц')\r\n",
        "print(d)"
      ],
      "execution_count": null,
      "outputs": [
        {
          "output_type": "stream",
          "text": [
            "сумма матриц\n",
            "[[ 5 -3]\n",
            " [ 3  5]]\n",
            "произведение матриц\n",
            "[[  4 -11]\n",
            " [ 12  -3]]\n"
          ],
          "name": "stdout"
        }
      ]
    },
    {
      "cell_type": "code",
      "metadata": {
        "colab": {
          "base_uri": "https://localhost:8080/"
        },
        "id": "5lexbW7aEZPT",
        "outputId": "8c6b0624-af7f-4f3a-a30f-ac25de2ea892"
      },
      "source": [
        "# 3. Линейная комбинация\r\n",
        "\r\n",
        "import numpy as np\r\n",
        "a1 = [1, 7]\r\n",
        "a2 = [3, -6]\r\n",
        "b1 = [0, 5]\r\n",
        "b2 = [2, -1]\r\n",
        "c1 = [2, -4]\r\n",
        "c2 = [1, 1]\r\n",
        "a = np.array([a1, a2])\r\n",
        "b = np.array([b1, b2])\r\n",
        "c = np.array([c1, c2])\r\n",
        "\r\n",
        "d = 3 * a - 2 * b + 4 * c\r\n",
        "print('линейная комбинация')\r\n",
        "print(d)\r\n"
      ],
      "execution_count": null,
      "outputs": [
        {
          "output_type": "stream",
          "text": [
            "линейная комбинация\n",
            "[[ 11  -5]\n",
            " [  9 -12]]\n"
          ],
          "name": "stdout"
        }
      ]
    },
    {
      "cell_type": "code",
      "metadata": {
        "colab": {
          "base_uri": "https://localhost:8080/"
        },
        "id": "SDro1HcGFVjd",
        "outputId": "d787a825-9ffc-4dca-acf8-32070ee7299b"
      },
      "source": [
        "# 4. Транспонирование и произведение матриц\r\n",
        "\r\n",
        "import numpy as np\r\n",
        "a1 = [4, 1]\r\n",
        "a2 = [5, -2]\r\n",
        "a3 = [2, 3]\r\n",
        "a = np.array([a1, a2, a3])\r\n",
        "b = a.transpose()\r\n",
        "c = np.dot(a, b)\r\n",
        "d = np.dot(b, a)\r\n",
        "print('произведение A * AT')\r\n",
        "print(c)\r\n",
        "print('произведение AТ * A')\r\n",
        "print(d)"
      ],
      "execution_count": 18,
      "outputs": [
        {
          "output_type": "stream",
          "text": [
            "произведение A * AT\n",
            "[[17 18 11]\n",
            " [18 29  4]\n",
            " [11  4 13]]\n",
            "произведение AТ * A\n",
            "[[45  0]\n",
            " [ 0 14]]\n"
          ],
          "name": "stdout"
        }
      ]
    },
    {
      "cell_type": "code",
      "metadata": {
        "colab": {
          "base_uri": "https://localhost:8080/"
        },
        "id": "rG9JN4kVD_ku",
        "outputId": "fe3b8f5c-753d-49d6-c91d-e6081da32067"
      },
      "source": [
        "# 5. Перемножение двух произвольных матриц\r\n",
        "\r\n",
        "import random\r\n",
        "\r\n",
        "def formation (rows, columns):\r\n",
        "  matrix_temp = []\r\n",
        "  matrix = []\r\n",
        "  for i in range(0, rows):\r\n",
        "    for j in range(0, columns):\r\n",
        "      matrix_temp.append(random.randint(1, 10))\r\n",
        "    matrix.append(matrix_temp)\r\n",
        "    matrix_temp = []\r\n",
        "  return matrix\r\n",
        "\r\n",
        "rows_1 = random.randint(1, 5)\r\n",
        "columns_1 = random.randint(1, 5)\r\n",
        "#rows_2 = random.randint(1, 5)\r\n",
        "# очень редко выпадают равные количества столбцов в первой матрице и строк во второй; для удобства проверки делаем их равными\r\n",
        "rows_2 = columns_1\r\n",
        "columns_2 = random.randint(1, 5)\r\n",
        "\r\n",
        "matrix_1 = formation (rows_1, columns_1)\r\n",
        "matrix_2 = formation (rows_2, columns_2)\r\n",
        "\r\n",
        "def multiplication (matrix_1, matrix_2):\r\n",
        "  elem = 0\r\n",
        "  matrix_temp = []\r\n",
        "  matrix_3 = []\r\n",
        "  \r\n",
        "  rows_1 = len(matrix_1)\r\n",
        "  columns_1 = len(matrix_1[0])\r\n",
        "  rows_2 = len(matrix_2)\r\n",
        "  columns_2 = len(matrix_2[0])\r\n",
        "  \r\n",
        "  if rows_2 != columns_1:\r\n",
        "    print('умножение матриц невозможно вследствие несовпадения размеров')\r\n",
        "  else:\r\n",
        "    for i in range(0, rows_1):\r\n",
        "      for j in range(0, columns_2):\r\n",
        "        for k in range(0, columns_1):\r\n",
        "          elem = elem + matrix_1[i][k] * matrix_2[k][j]\r\n",
        "        matrix_temp.append(elem)\r\n",
        "        elem = 0\r\n",
        "      matrix_3.append(matrix_temp)\r\n",
        "      matrix_temp = []\r\n",
        "  return matrix_3\r\n",
        "\r\n",
        "matrix_3 = multiplication (matrix_1, matrix_2)\r\n",
        "\r\n",
        "if rows_2 == columns_1:\r\n",
        "  print('первая матрица')\r\n",
        "  print(matrix_1)\r\n",
        "  print('вторая матрица')\r\n",
        "  print(matrix_2)\r\n",
        "  print('результирующая матрица')\r\n",
        "  print(matrix_3)\r\n",
        "  print('P.S.: как записать матрицу в привычном виде, не используя Numpy, так и не придумал')\r\n",
        "else:\r\n",
        "  print('умножение не было выполнено')"
      ],
      "execution_count": 71,
      "outputs": [
        {
          "output_type": "stream",
          "text": [
            "первая матрица\n",
            "[[2, 6, 4, 8], [5, 3, 8, 2], [2, 4, 5, 6], [6, 2, 7, 2]]\n",
            "вторая матрица\n",
            "[[4, 6, 7, 8], [7, 9, 2, 2], [4, 1, 1, 2], [6, 8, 6, 5]]\n",
            "результирующая матрица\n",
            "[[114, 134, 78, 76], [85, 81, 61, 72], [92, 101, 63, 64], [78, 77, 65, 76]]\n",
            "P.S.: как записать матрицу в привычном виде, не используя Numpy, так и не придумал\n"
          ],
          "name": "stdout"
        }
      ]
    },
    {
      "cell_type": "code",
      "metadata": {
        "colab": {
          "base_uri": "https://localhost:8080/"
        },
        "id": "OCw_4rgGIXUS",
        "outputId": "269d8138-92cc-46cd-e3d3-27ba8ed10f78"
      },
      "source": [
        "# 6. Определители матриц\r\n",
        "\r\n",
        "import numpy as np\r\n",
        "import math\r\n",
        "import random\r\n",
        "\r\n",
        "x = random.random()\r\n",
        "a1 = [math.sin(x), (-1) * math.cos(x)]\r\n",
        "a2 = [math.cos(x), math.sin(x)]\r\n",
        "a = np.array([a1, a2])\r\n",
        "\r\n",
        "b1 = [8, 4, 6]\r\n",
        "b2 = [0, 5, 1]\r\n",
        "b3 = [0, 0, 9]\r\n",
        "b = np.array([b1, b2, b3])\r\n",
        "\r\n",
        "c1 = [2, 3, 4]\r\n",
        "c2 = [5, 6, 7]\r\n",
        "c3 = [8, 9, 10]\r\n",
        "c = np.array([c1, c2, c3])\r\n",
        "\r\n",
        "print('определитель матрицы 1')\r\n",
        "print(np.linalg.det(a))\r\n",
        "print('определитель матрицы 2')\r\n",
        "print(np.linalg.det(b))\r\n",
        "print('определитель матрицы 3')\r\n",
        "print(np.linalg.det(c))"
      ],
      "execution_count": null,
      "outputs": [
        {
          "output_type": "stream",
          "text": [
            "определитель матрицы 1\n",
            "0.9999999999999999\n",
            "определитель матрицы 2\n",
            "360.00000000000006\n",
            "определитель матрицы 3\n",
            "0.0\n"
          ],
          "name": "stdout"
        }
      ]
    },
    {
      "cell_type": "code",
      "metadata": {
        "colab": {
          "base_uri": "https://localhost:8080/"
        },
        "id": "RQ6x8QLdP4t-",
        "outputId": "bda00724-ecc2-4346-a915-fc1c541ce920"
      },
      "source": [
        "# 7. Определители матриц\r\n",
        "\r\n",
        "# здесь я пытаюсь показать, что:\r\n",
        "# а) детерминант квадрата матрицы равен квадрату детерминанта исходной матрицы\r\n",
        "# б) детерминант транспонированной матрицы равен детерминанту исходной матрицы\r\n",
        "# в) детерминант матрицы, умноженной на два, равен детерминанту исходной матрицы, умноженному на два в степени порядка матрицы\r\n",
        "# по условиям задачи детерминант исходной матрицы равен 4; следовательно детерминанты равны соответственно 16; 4; 4 * 2 ** n\r\n",
        "\r\n",
        "import numpy as np\r\n",
        "import random\r\n",
        "\r\n",
        "a11 = random.random()\r\n",
        "a12 = random.random()\r\n",
        "a21 = random.random()\r\n",
        "a22 = random.random()\r\n",
        "a1 = [a11, a12]\r\n",
        "a2 = [a21, a22]\r\n",
        "a = np.array([a1, a2])\r\n",
        "det_a = np.linalg.det(a)\r\n",
        "\r\n",
        "# детерминант А ** 2\r\n",
        "b = np.dot(a, a)\r\n",
        "det_b = np.linalg.det(b)\r\n",
        "print('детерминант матрицы А', det_a)\r\n",
        "print('детерминант матрицы А в квадрате', det_a ** 2)\r\n",
        "print('детерминант квадрата матрицы А', det_b)\r\n",
        "print()\r\n",
        "\r\n",
        "# детерминант АТ\r\n",
        "с = a.transpose()\r\n",
        "det_с = np.linalg.det(с)\r\n",
        "print('детерминант матрицы А', det_a)\r\n",
        "print('детерминант транспонированной матрицы А', det_с)\r\n",
        "print()\r\n",
        "\r\n",
        "# детерминант 2 * А\r\n",
        "d = 2 * a\r\n",
        "det_d = np.linalg.det(d)\r\n",
        "print('детерминант матрицы А', det_a)\r\n",
        "print('детерминант матрицы А * 2 в степени 2 (порядок матрицы)', det_a * 2 * 2)\r\n",
        "print('детерминант матрицы 2 * А', det_d)\r\n",
        "print()"
      ],
      "execution_count": null,
      "outputs": [
        {
          "output_type": "stream",
          "text": [
            "детерминант матрицы А 0.2555885010918327\n",
            "детерминант матрицы А в квадрате 0.06532548189036975\n",
            "детерминант квадрата матрицы А 0.0653254818903698\n",
            "\n",
            "детерминант матрицы А 0.2555885010918327\n",
            "детерминант транспонированной матрицы А 0.25558850109183273\n",
            "\n",
            "детерминант матрицы А 0.2555885010918327\n",
            "детерминант матрицы А * 2 в степени 2 (порядок матрицы) 1.0223540043673307\n",
            "детерминант матрицы 2 * А 1.0223540043673307\n",
            "\n"
          ],
          "name": "stdout"
        }
      ]
    },
    {
      "cell_type": "code",
      "metadata": {
        "colab": {
          "base_uri": "https://localhost:8080/"
        },
        "id": "gBVCengZbE6z",
        "outputId": "1c22fc56-ad02-4511-e8cb-8ad7cd3f151e"
      },
      "source": [
        "# 8. Вырожденная матрица\r\n",
        "\r\n",
        "import numpy as np\r\n",
        "\r\n",
        "a1 = [-2, 7, -3]\r\n",
        "a2 = [4, -14, 6]\r\n",
        "a3 = [-3, 7, 13]\r\n",
        "a = np.array([a1, a2, a3])\r\n",
        "\r\n",
        "print('определитель матрицы равен')\r\n",
        "print(np.linalg.det(a))\r\n",
        "print('следовательно, матрица вырожденная')\r\n"
      ],
      "execution_count": null,
      "outputs": [
        {
          "output_type": "stream",
          "text": [
            "определитель матрицы равен\n",
            "0.0\n",
            "следовательно, матрица вырожденная\n"
          ],
          "name": "stdout"
        }
      ]
    },
    {
      "cell_type": "code",
      "metadata": {
        "colab": {
          "base_uri": "https://localhost:8080/"
        },
        "id": "VaQUlZ_JcSfz",
        "outputId": "8bfefdd0-1551-4a0f-b446-68c4a27433ad"
      },
      "source": [
        "# 9. Ранг матрицы\r\n",
        "\r\n",
        "import numpy as np\r\n",
        "\r\n",
        "a1 = [1, 2, 3]\r\n",
        "a2 = [1, 1, 1]\r\n",
        "a3 = [2, 3, 4]\r\n",
        "a = np.array([a1, a2, a3])\r\n",
        "rank_a = np.linalg.matrix_rank(a)\r\n",
        "print('ранг матрицы равен', rank_a)\r\n",
        "\r\n",
        "b1 = [0, 0, 2, 1]\r\n",
        "b2 = [0, 0, 2, 2]\r\n",
        "b3 = [0, 0, 4, 3]\r\n",
        "b4 = [2, 3, 5, 6]\r\n",
        "b = np.array([b1, b2, b3, b4])\r\n",
        "rank_b = np.linalg.matrix_rank(b)\r\n",
        "print('ранг матрицы равен', rank_b)"
      ],
      "execution_count": null,
      "outputs": [
        {
          "output_type": "stream",
          "text": [
            "ранг матрицы равен 2\n",
            "ранг матрицы равен 3\n"
          ],
          "name": "stdout"
        }
      ]
    }
  ]
}