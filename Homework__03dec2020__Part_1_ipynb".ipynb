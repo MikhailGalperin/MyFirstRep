{
  "nbformat": 4,
  "nbformat_minor": 0,
  "metadata": {
    "colab": {
      "name": "Homework _03dec2020 _Part_1.ipynb\"",
      "provenance": [],
      "collapsed_sections": [],
      "include_colab_link": true
    },
    "kernelspec": {
      "name": "python3",
      "display_name": "Python 3"
    }
  },
  "cells": [
    {
      "cell_type": "markdown",
      "metadata": {
        "id": "view-in-github",
        "colab_type": "text"
      },
      "source": [
        "<a href=\"https://colab.research.google.com/github/MikhailGalperin/MyFirstRep/blob/main/Homework__03dec2020__Part_1_ipynb%22.ipynb\" target=\"_parent\"><img src=\"https://colab.research.google.com/assets/colab-badge.svg\" alt=\"Open In Colab\"/></a>"
      ]
    },
    {
      "cell_type": "markdown",
      "metadata": {
        "id": "hJUoLXahoc0e"
      },
      "source": [
        "https://colab.research.google.com/drive/1IKjFH-OYifkjY0g3U6h5hLjd6IpYluFU"
      ]
    },
    {
      "cell_type": "markdown",
      "metadata": {
        "id": "jQHACX0HXm9e"
      },
      "source": [
        "# Новый раздел"
      ]
    },
    {
      "cell_type": "markdown",
      "metadata": {
        "id": "-PkQ9hSoulSP"
      },
      "source": [
        "## Домашнее задание. Часть 1.\n",
        "\n",
        "- напишем свою собственную библиотеку\n",
        "\n",
        "Вего за эту часть ДЗ можно набрать максимум **11.5 баллов**. Разбиение баллов по каждой из задач представлено непосредственно перед текстом каждой задачи.\n",
        "\n",
        "**Дедлайн - пятница, 11.12.2020 в 23:59.**\n",
        "\n",
        "Дедлайн жесткий, сдача после дедлайна - 0 баллов за ДЗ."
      ]
    },
    {
      "cell_type": "markdown",
      "metadata": {
        "id": "raMUrDs_OUUp"
      },
      "source": [
        "Ссылка на ноутбук в колабе: https://colab.research.google.com/drive/1LgWtESFmiNW1WlVFCHKyNl_BxAWxoL3Z?usp=sharing"
      ]
    },
    {
      "cell_type": "markdown",
      "metadata": {
        "id": "DlJPKMxvBZDq"
      },
      "source": [
        "Допустим мы хотим написать фнкцию, которая складывает 2 числа и сохранить ее в отдельный .py файл. Пример:"
      ]
    },
    {
      "cell_type": "code",
      "metadata": {
        "colab": {
          "base_uri": "https://localhost:8080/"
        },
        "id": "YWxx_tJFBWXc",
        "outputId": "e8073cae-ccee-4a1f-ddd5-7148365a19cf"
      },
      "source": [
        "%%writefile lib.py\n",
        "def summ(a1, b1):\n",
        "    return a1+b1"
      ],
      "execution_count": null,
      "outputs": [
        {
          "output_type": "stream",
          "text": [
            "Writing lib.py\n"
          ],
          "name": "stdout"
        }
      ]
    },
    {
      "cell_type": "code",
      "metadata": {
        "id": "GpwqwV2XBWe0"
      },
      "source": [
        "from lib import summ"
      ],
      "execution_count": null,
      "outputs": []
    },
    {
      "cell_type": "code",
      "metadata": {
        "colab": {
          "base_uri": "https://localhost:8080/",
          "height": 163
        },
        "id": "PdSwrEkYud_1",
        "outputId": "8d3df624-5cf8-431f-89ff-0bd56657ceb9"
      },
      "source": [
        "summ(2,6)"
      ],
      "execution_count": null,
      "outputs": [
        {
          "output_type": "error",
          "ename": "NameError",
          "evalue": "ignored",
          "traceback": [
            "\u001b[0;31m---------------------------------------------------------------------------\u001b[0m",
            "\u001b[0;31mNameError\u001b[0m                                 Traceback (most recent call last)",
            "\u001b[0;32m<ipython-input-2-66f934fddf89>\u001b[0m in \u001b[0;36m<module>\u001b[0;34m()\u001b[0m\n\u001b[0;32m----> 1\u001b[0;31m \u001b[0msumm\u001b[0m\u001b[0;34m(\u001b[0m\u001b[0;36m2\u001b[0m\u001b[0;34m,\u001b[0m\u001b[0;36m6\u001b[0m\u001b[0;34m)\u001b[0m\u001b[0;34m\u001b[0m\u001b[0;34m\u001b[0m\u001b[0m\n\u001b[0m",
            "\u001b[0;31mNameError\u001b[0m: name 'summ' is not defined"
          ]
        }
      ]
    },
    {
      "cell_type": "markdown",
      "metadata": {
        "id": "lzVEq6dcB_B6"
      },
      "source": [
        "Попробуем запустить через \"терминал\""
      ]
    },
    {
      "cell_type": "code",
      "metadata": {
        "id": "GnvjY52dB9F0"
      },
      "source": [
        "!python3 lib.py"
      ],
      "execution_count": null,
      "outputs": []
    },
    {
      "cell_type": "markdown",
      "metadata": {
        "id": "12k4C-iDCGD5"
      },
      "source": [
        "Ничего не происходит. А теперь добавим `if __name__ == \"__main__\"` в наш код и пересохраним файл lib.py"
      ]
    },
    {
      "cell_type": "code",
      "metadata": {
        "colab": {
          "base_uri": "https://localhost:8080/",
          "height": 231
        },
        "id": "EXxDy4EoujyT",
        "outputId": "d09889ca-bec5-4173-cc4d-47d05bd11876"
      },
      "source": [
        "%%writefile lib.py\n",
        "import sys\n",
        "\n",
        "a1 = float( sys.argv[1] ) # Считываем аргументы прямо из терминала\n",
        "b1 = float( sys.argv[2] ) # Считываем аргументы прямо из терминала\n",
        "\n",
        "def summ(a1, b1):\n",
        "    return a1+b1\n",
        "\n",
        "if __name__ == \"__main__\":\n",
        "    print(summ(a1, b1))\n"
      ],
      "execution_count": null,
      "outputs": [
        {
          "output_type": "error",
          "ename": "ValueError",
          "evalue": "ignored",
          "traceback": [
            "\u001b[0;31m---------------------------------------------------------------------------\u001b[0m",
            "\u001b[0;31mValueError\u001b[0m                                Traceback (most recent call last)",
            "\u001b[0;32m<ipython-input-3-743dc37c41aa>\u001b[0m in \u001b[0;36m<module>\u001b[0;34m()\u001b[0m\n\u001b[1;32m      2\u001b[0m \u001b[0;32mimport\u001b[0m \u001b[0msys\u001b[0m\u001b[0;34m\u001b[0m\u001b[0;34m\u001b[0m\u001b[0m\n\u001b[1;32m      3\u001b[0m \u001b[0;34m\u001b[0m\u001b[0m\n\u001b[0;32m----> 4\u001b[0;31m \u001b[0ma1\u001b[0m \u001b[0;34m=\u001b[0m \u001b[0mfloat\u001b[0m\u001b[0;34m(\u001b[0m \u001b[0msys\u001b[0m\u001b[0;34m.\u001b[0m\u001b[0margv\u001b[0m\u001b[0;34m[\u001b[0m\u001b[0;36m1\u001b[0m\u001b[0;34m]\u001b[0m \u001b[0;34m)\u001b[0m \u001b[0;31m# Считываем аргументы прямо из терминала\u001b[0m\u001b[0;34m\u001b[0m\u001b[0;34m\u001b[0m\u001b[0m\n\u001b[0m\u001b[1;32m      5\u001b[0m \u001b[0mb1\u001b[0m \u001b[0;34m=\u001b[0m \u001b[0mfloat\u001b[0m\u001b[0;34m(\u001b[0m \u001b[0msys\u001b[0m\u001b[0;34m.\u001b[0m\u001b[0margv\u001b[0m\u001b[0;34m[\u001b[0m\u001b[0;36m2\u001b[0m\u001b[0;34m]\u001b[0m \u001b[0;34m)\u001b[0m \u001b[0;31m# Считываем аргументы прямо из терминала\u001b[0m\u001b[0;34m\u001b[0m\u001b[0;34m\u001b[0m\u001b[0m\n\u001b[1;32m      6\u001b[0m \u001b[0;34m\u001b[0m\u001b[0m\n",
            "\u001b[0;31mValueError\u001b[0m: could not convert string to float: '-f'"
          ]
        }
      ]
    },
    {
      "cell_type": "code",
      "metadata": {
        "colab": {
          "base_uri": "https://localhost:8080/"
        },
        "id": "9kg9IKcWuj1F",
        "outputId": "ae36a111-2f14-4872-aea9-3f49ef75e781"
      },
      "source": [
        "!python3 lib.py 2 4"
      ],
      "execution_count": null,
      "outputs": [
        {
          "output_type": "stream",
          "text": [
            "6.0\n"
          ],
          "name": "stdout"
        }
      ]
    },
    {
      "cell_type": "markdown",
      "metadata": {
        "id": "MEQd0OJnD4ut"
      },
      "source": [
        "# **Задание 1**\n",
        "\n",
        "Реализуйте следующие функции и сохраните их в библиотеку **my_math_lib.py** (пока без использования конструкции `if __name__ == \"__main__\"`)"
      ]
    },
    {
      "cell_type": "markdown",
      "metadata": {
        "id": "-irvYNmrD9FA"
      },
      "source": [
        "**1 point** \n",
        "1. **def deg_to_rad()**. Напишите программу на Python для преобразования градусов в радианы.  *(Note: Радиан - это стандартная единица измерения угла, используемая во многих областях математики. Измерение угла в радианах численно равно длине соответствующей дуги единичного круга; один радиан чуть меньше 57,3 градуса)* **1 point**\n",
        "\n",
        "**1 point** \n",
        "2. **def rad_to_def()**. Напишите программу Python для преобразования радианов в градусы.\n",
        "\n",
        "**1.5 point** \n",
        "3. **def discriminant()**. Напишите программу на Python для вычисления значения дискриминанта (вспоминаем квадратные уравнения). Входные данные три числа: x, y, z (учтите что корни могут быть комлЕксными!)\n",
        "\n",
        "**1.5 point** \n",
        "4. **def power_base_sum()**. Напишите программу на Python, чтобы вычислить сумму всех цифр основания в указанной степени.\n",
        "\n",
        "Пример: power_base_sum(2, 100)\n",
        "\n",
        "Выход: 115\n",
        "\n",
        "\n",
        "\n",
        "**2 point** \n",
        "5. **def magic_square()**. Напишите программу на Python для вычисления [магического квадрата](https://ru.wikipedia.org/wiki/Магический_квадрат)\n",
        "\n",
        "Note:\n",
        "\n",
        "Магический, или волшебный квадрат — это квадратная таблица , заполненная числами таким образом, что сумма чисел в каждой строке, каждом столбце и на обеих диагоналях одинакова. Сумма чисел в каждой строке, столбце и на диагоналях, называется магической константой, M.\n",
        "\n",
        "**1 point** \n",
        "6. **def mult_list()**. Напишите функцию Python для умножения всех чисел в массиве list(), (размер листа на входе произвольный)\n",
        "\n",
        "**1 point** \n",
        "7. **def create_list()**. Напишите функцию Python для создания и вывода списка (при помощи print()), в котором значения представляют собой квадрат чисел от 1 до 30 (оба включительно)."
      ]
    },
    {
      "cell_type": "code",
      "metadata": {
        "colab": {
          "base_uri": "https://localhost:8080/"
        },
        "id": "zva4b0TztQlQ",
        "outputId": "2001c2c9-2978-46e3-b155-59399ec4e36d"
      },
      "source": [
        "%%writefile my_math_lib.py\n",
        "\n",
        "#ПЕРЕВОД ГРАДУСОВ В РАДИАНЫ\n",
        "import math\n",
        "deg = 45\n",
        "\n",
        "def deg_to_rad(deg):\n",
        "  return deg * math.pi / 180\n",
        "\n",
        "if __name__ == \"__main__\":\n",
        "  rad = deg_to_rad(deg)\n",
        "  print('1.1 перевод', deg, 'градусов в радианы: ', rad)\n",
        "\n",
        "  #проверка\n",
        "  print('проверка', math.radians(deg))\n",
        "\n",
        "# ПЕРЕВОД РАДИАН В ГРАДУСЫ\n",
        "import math\n",
        "rad = 0.5\n",
        "\n",
        "def rad_to_deg (rad):\n",
        "  return rad * 180 / math.pi\n",
        "\n",
        "if __name__ == \"__main__\":\n",
        "  deg = rad_to_deg(rad)\n",
        "  print('1.2 перевод', rad, 'радиан в градусы: ', deg)\n",
        "\n",
        "  #проверка\n",
        "  print('проверка', math.degrees(rad))\n",
        "\n",
        "#ВЫЧИСЛЕНИЕ ДИСКРИМИНАНТА КВАДРАТНОГО УРАВНЕНИЯ\n",
        "x = 1\n",
        "y = 2\n",
        "z = 3\n",
        "def discriminant (a, b, c):\n",
        "  return b ** 2 - 4 * a * c\n",
        "\n",
        "if __name__ == \"__main__\":\n",
        "  d = discriminant(x, y, z)\n",
        "  print ('1.3 дискриминант равен', d)\n",
        "\n",
        "#ВЫЧИСЛЕНИЕ СУММЫ ЦИФР ОСНОВАНИЯ В СТЕПЕНИ\n",
        "pbs1 = 2\n",
        "pbs2 = 100\n",
        "pbs3 = 0\n",
        "def power_base_sum (a, b):\n",
        "  c = a ** b\n",
        "  d = 0\n",
        "  e = 0\n",
        "  while c > 0:\n",
        "    d = c % 10\n",
        "    e = e + d\n",
        "    c = c // 10\n",
        "  return e\n",
        "\n",
        "if __name__ == \"__main__\":\n",
        "  pbs3 = power_base_sum(pbs1, pbs2)\n",
        "  print ('1.4 сумма цифр основания в степени равна', pbs3)\n",
        "\n",
        "#ПОСТРОЕНИЕ МАГИЧЕСКОГО КВАДРАТА\n",
        "\n",
        "import numpy as np\n",
        "size = 10\n",
        "\n",
        "def magic_square(a):\n",
        "  b = np.arange(1, a + 1)\n",
        "  \n",
        "  if a < 3:\n",
        "    print('магический квадрат со стороной', a, 'невозможен')\n",
        "  \n",
        "  if a % 2 != 0:\n",
        "    square = a * np.mod(b[:, None] + b - (a + 3) // 2, a) + np.mod(b[:, None] + 2 * b - 2, a) + 1\n",
        "  \n",
        "  elif a % 4 == 0:\n",
        "    c = np.mod(b, 4) // 2\n",
        "    d = c[:, None] == c\n",
        "    square = np.arange(1, a * a + 1, a)[:, None] + np.arange(a)\n",
        "    square[d] = a * a + 1 - square[d]\n",
        "  \n",
        "  else:\n",
        "    c = (a - 2) // 4\n",
        "    d = np.concatenate((np.arange(c), np.arange(a - c + 1, a)))\n",
        "    half_a = a // 2\n",
        "    half_a_basis = np.arange(half_a)\n",
        "    square = magic_square(half_a)\n",
        "    square = np.block([[square, square + half_a ** 2 * 2], [square + half_a ** 2 * 3, square + half_a ** 2]])\n",
        "    \n",
        "    square[np.ix_(np.concatenate((half_a_basis, half_a_basis + half_a)), d)] = square[np.ix_(np.concatenate((half_a_basis + half_a, half_a_basis)), d)]\n",
        "    square[np.ix_([c, c + half_a], [0, c])] = square[np.ix_([c + half_a, c], [0, c])]\n",
        "  \n",
        "  return square\n",
        "\n",
        "if __name__ == \"__main__\":    \n",
        "  print ('1.5 магический квадрат со стороной', size)\n",
        "  print(magic_square(size))\n",
        "\n",
        "#УМНОЖЕНИЕ ЧИСЕЛ В МАССИВЕ\n",
        "\n",
        "import numpy as np\n",
        "multiplist = [1, 2, 3, 4, 5, 6]\n",
        "\n",
        "def mult_list(a):\n",
        "  mult = 1\n",
        "  for i in a:\n",
        "    mult = mult * i\n",
        "  return mult\n",
        "\n",
        "if __name__ == \"__main__\":\n",
        "  print('1.6 произведение чисел в массиве', multiplist, 'равно', mult_list(multiplist))\n",
        "  print('проверка', np.prod(multiplist))\n",
        "\n",
        "#СПИСОК КВАДРАТОВ\n",
        "a = 1\n",
        "b = 30\n",
        "\n",
        "def create_list (x, y):\n",
        "  squares = [i ** 2 for i in range(x, y + 1)]\n",
        "  print (squares)\n",
        "  return squares\n",
        "\n",
        "if __name__ == \"__main__\":\n",
        "  print('1.7 список квадратов чисел от', a, 'до', b)\n",
        "  c = create_list(a, b)"
      ],
      "execution_count": null,
      "outputs": [
        {
          "output_type": "stream",
          "text": [
            "Overwriting my_math_lib.py\n"
          ],
          "name": "stdout"
        }
      ]
    },
    {
      "cell_type": "code",
      "metadata": {
        "id": "cxjYPNRAIBqe"
      },
      "source": [
        "#TODO"
      ],
      "execution_count": null,
      "outputs": []
    },
    {
      "cell_type": "markdown",
      "metadata": {
        "id": "cSdLK3ZSID3B"
      },
      "source": [
        "# **Задание 2**\n",
        "Импортируйте все методы из модуля my_math_lib.\n",
        "\n",
        " **0.25 point** \n",
        " - при помощи функции **def discriminant()** посчитайте дискриминант следующего уравнения: \n",
        " $x^{2}+3 x+4=0$\n",
        "\n",
        "**0.25 point** \n",
        " - постройте магический квадрат размера 5х5"
      ]
    },
    {
      "cell_type": "code",
      "metadata": {
        "id": "k1Jhjs6FD8Sy",
        "colab": {
          "base_uri": "https://localhost:8080/"
        },
        "outputId": "e9b9ace7-d407-4c65-b453-519a041c347e"
      },
      "source": [
        "from my_math_lib import *\n",
        "\n",
        "print('дискриминант уравнения x ** 2 + 3 * x + 4 = 0 равен', discriminant (1, 3, 4))\n",
        "print('магический квадрат со стороной 5')\n",
        "print(magic_square(5))"
      ],
      "execution_count": null,
      "outputs": [
        {
          "output_type": "stream",
          "text": [
            "дискриминант уравнения x ** 2 + 3 * x + 4 = 0 равен -7\n",
            "магический квадрат со стороной 5\n",
            "[[17 24  1  8 15]\n",
            " [23  5  7 14 16]\n",
            " [ 4  6 13 20 22]\n",
            " [10 12 19 21  3]\n",
            " [11 18 25  2  9]]\n"
          ],
          "name": "stdout"
        }
      ]
    },
    {
      "cell_type": "code",
      "metadata": {
        "id": "zjQVS7m8uj4J"
      },
      "source": [
        ""
      ],
      "execution_count": null,
      "outputs": []
    },
    {
      "cell_type": "markdown",
      "metadata": {
        "id": "NjbtwcH473YJ"
      },
      "source": [
        ""
      ]
    },
    {
      "cell_type": "markdown",
      "metadata": {
        "id": "1xqoQlZkId3s"
      },
      "source": [
        "# **Задание 3**\n",
        "\n",
        "**2 point**\n",
        "* Добавьте в вашу библиотеку конструкцию `if __name__ == \"__main__\"`, которая должна принимать одну из вышеперечисленных функций. \n",
        "* Важно! аргументы, подаваемые в функцию, должны подаваться напряму через терминал (как в примере)! Используйте для этого библиотеку `sys`"
      ]
    },
    {
      "cell_type": "code",
      "metadata": {
        "colab": {
          "base_uri": "https://localhost:8080/"
        },
        "id": "wYW2vIkJ_FDm",
        "outputId": "0d0b18c1-f659-4d0b-fde2-18319439b029"
      },
      "source": [
        "%%writefile my_math_lib_task3.py\r\n",
        "#ВЫЧИСЛЕНИЕ ДИСКРИМИНАНТА КВАДРАТНОГО УРАВНЕНИЯ\r\n",
        "import sys\r\n",
        "x = float( sys.argv[1] )\r\n",
        "y = float( sys.argv[2] )\r\n",
        "z = float( sys.argv[3] )\r\n",
        "def discriminant_task3 (a, b, c):\r\n",
        "  return b ** 2 - 4 * a * c\r\n",
        "\r\n",
        "if __name__ == \"__main__\":\r\n",
        "  d = discriminant_task3(x, y, z)\r\n",
        "  print ('дискриминант равен', d)"
      ],
      "execution_count": null,
      "outputs": [
        {
          "output_type": "stream",
          "text": [
            "Overwriting my_math_lib_task3.py\n"
          ],
          "name": "stdout"
        }
      ]
    },
    {
      "cell_type": "code",
      "metadata": {
        "id": "CPMx4V4DJIVx"
      },
      "source": [
        "#TODO"
      ],
      "execution_count": null,
      "outputs": []
    },
    {
      "cell_type": "code",
      "metadata": {
        "colab": {
          "base_uri": "https://localhost:8080/"
        },
        "id": "yMVPtO9UHEw_",
        "outputId": "568cff8d-9422-4411-bf1a-c0c887a3b92c"
      },
      "source": [
        "!python3 my_math_lib_task3.py 1 3 4"
      ],
      "execution_count": null,
      "outputs": [
        {
          "output_type": "stream",
          "text": [
            "дискриминант равен -7.0\n"
          ],
          "name": "stdout"
        }
      ]
    }
  ]
}