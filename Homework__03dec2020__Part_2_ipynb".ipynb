{
  "nbformat": 4,
  "nbformat_minor": 0,
  "metadata": {
    "colab": {
      "name": "Homework _03dec2020 _Part_2.ipynb\"",
      "provenance": [],
      "collapsed_sections": [],
      "toc_visible": true,
      "include_colab_link": true
    },
    "kernelspec": {
      "name": "python3",
      "display_name": "Python 3"
    }
  },
  "cells": [
    {
      "cell_type": "markdown",
      "metadata": {
        "id": "view-in-github",
        "colab_type": "text"
      },
      "source": [
        "<a href=\"https://colab.research.google.com/github/MikhailGalperin/MyFirstRep/blob/main/Homework__03dec2020__Part_2_ipynb%22.ipynb\" target=\"_parent\"><img src=\"https://colab.research.google.com/assets/colab-badge.svg\" alt=\"Open In Colab\"/></a>"
      ]
    },
    {
      "cell_type": "markdown",
      "metadata": {
        "id": "sVt9Gn6oPL9h"
      },
      "source": [
        "## Домашнее задание. Часть 2.\n",
        "\n",
        "\n",
        "Вего за эту часть ДЗ можно набрать максимум **8.5 баллов**. Разбиение баллов по каждой из задач представлено непосредственно перед текстом каждой задачи.\n",
        "\n",
        "**Дедлайн - пятница, 11.12.2020 в 23:59.**\n",
        "\n",
        "Дедлайн жесткий, сдача после дедлайна - 0 баллов за ДЗ.\n",
        "\n",
        "Ссылка на ноутбук в колабе: https://colab.research.google.com/drive/18Yom8NjCpK0XAVaO6-RzNs9--foqKtio?usp=sharing\n",
        "\n",
        "В этой части ДЗ Вам необходимо будет работать с датасетами - все они лежат в репозитории курса, а именно https://github.com/ddvika/Data-Science-School-2020/tree/main/hw_intermediate в папке `\"materials\"`\n",
        "\n",
        "а также на гугл диске:\n",
        "https://drive.google.com/drive/folders/1mvcBvJ_2341foynNnvmkJh3EJdS4_b4m?usp=sharing\n",
        "\n",
        "Вы можете обойтись и без скачивания, тк все данные импортируются напрямую из гитхаб"
      ]
    },
    {
      "cell_type": "markdown",
      "metadata": {
        "id": "LeUfW2A1PVqp"
      },
      "source": [
        "# Задание 1\n",
        "файл 'file_example_XLSX_1000.xlsx' лежит в репозитории и на гугл диске по ссылке выше"
      ]
    },
    {
      "cell_type": "markdown",
      "metadata": {
        "id": "5TBfORBwQXPQ"
      },
      "source": [
        "**0.5 point**\n",
        "\n",
        "- убрать ненужный столбец Unnamed\n",
        "\n",
        "**0.5 point**\n",
        "- Отсортировать людей по возрасту\n",
        "\n",
        "**0.5 point**\n",
        "- разделить людей по полу (сохраните в переменные female, male)\n",
        "\n",
        "**1 point**\n",
        "- построить гистограмму возрастов для мужчин и гистограмму возрастов для женщин"
      ]
    },
    {
      "cell_type": "code",
      "metadata": {
        "colab": {
          "base_uri": "https://localhost:8080/",
          "height": 419
        },
        "id": "utpj-YhpPNCe",
        "outputId": "95f22254-1163-4e5b-d5b3-056283310592"
      },
      "source": [
        "import pandas as pd\n",
        "df = pd.read_excel('https://github.com/ddvika/Data-Science-School-2020/blob/main/hw_intermediate/materials/file_example_XLSX_1000.xlsx?raw=true')\n",
        "df"
      ],
      "execution_count": null,
      "outputs": [
        {
          "output_type": "execute_result",
          "data": {
            "text/html": [
              "<div>\n",
              "<style scoped>\n",
              "    .dataframe tbody tr th:only-of-type {\n",
              "        vertical-align: middle;\n",
              "    }\n",
              "\n",
              "    .dataframe tbody tr th {\n",
              "        vertical-align: top;\n",
              "    }\n",
              "\n",
              "    .dataframe thead th {\n",
              "        text-align: right;\n",
              "    }\n",
              "</style>\n",
              "<table border=\"1\" class=\"dataframe\">\n",
              "  <thead>\n",
              "    <tr style=\"text-align: right;\">\n",
              "      <th></th>\n",
              "      <th>Unnamed: 0</th>\n",
              "      <th>First Name</th>\n",
              "      <th>Last Name</th>\n",
              "      <th>Gender</th>\n",
              "      <th>Country</th>\n",
              "      <th>Age</th>\n",
              "      <th>Date</th>\n",
              "      <th>Id</th>\n",
              "    </tr>\n",
              "  </thead>\n",
              "  <tbody>\n",
              "    <tr>\n",
              "      <th>0</th>\n",
              "      <td>1</td>\n",
              "      <td>Dulce</td>\n",
              "      <td>Abril</td>\n",
              "      <td>Female</td>\n",
              "      <td>United States</td>\n",
              "      <td>32</td>\n",
              "      <td>15/10/2017</td>\n",
              "      <td>1562</td>\n",
              "    </tr>\n",
              "    <tr>\n",
              "      <th>1</th>\n",
              "      <td>2</td>\n",
              "      <td>Mara</td>\n",
              "      <td>Hashimoto</td>\n",
              "      <td>Female</td>\n",
              "      <td>Great Britain</td>\n",
              "      <td>25</td>\n",
              "      <td>16/08/2016</td>\n",
              "      <td>1582</td>\n",
              "    </tr>\n",
              "    <tr>\n",
              "      <th>2</th>\n",
              "      <td>3</td>\n",
              "      <td>Philip</td>\n",
              "      <td>Gent</td>\n",
              "      <td>Male</td>\n",
              "      <td>France</td>\n",
              "      <td>36</td>\n",
              "      <td>21/05/2015</td>\n",
              "      <td>2587</td>\n",
              "    </tr>\n",
              "    <tr>\n",
              "      <th>3</th>\n",
              "      <td>4</td>\n",
              "      <td>Kathleen</td>\n",
              "      <td>Hanner</td>\n",
              "      <td>Female</td>\n",
              "      <td>United States</td>\n",
              "      <td>25</td>\n",
              "      <td>15/10/2017</td>\n",
              "      <td>3549</td>\n",
              "    </tr>\n",
              "    <tr>\n",
              "      <th>4</th>\n",
              "      <td>5</td>\n",
              "      <td>Nereida</td>\n",
              "      <td>Magwood</td>\n",
              "      <td>Female</td>\n",
              "      <td>United States</td>\n",
              "      <td>58</td>\n",
              "      <td>16/08/2016</td>\n",
              "      <td>2468</td>\n",
              "    </tr>\n",
              "    <tr>\n",
              "      <th>...</th>\n",
              "      <td>...</td>\n",
              "      <td>...</td>\n",
              "      <td>...</td>\n",
              "      <td>...</td>\n",
              "      <td>...</td>\n",
              "      <td>...</td>\n",
              "      <td>...</td>\n",
              "      <td>...</td>\n",
              "    </tr>\n",
              "    <tr>\n",
              "      <th>995</th>\n",
              "      <td>996</td>\n",
              "      <td>Roma</td>\n",
              "      <td>Lafollette</td>\n",
              "      <td>Female</td>\n",
              "      <td>United States</td>\n",
              "      <td>34</td>\n",
              "      <td>15/10/2017</td>\n",
              "      <td>2654</td>\n",
              "    </tr>\n",
              "    <tr>\n",
              "      <th>996</th>\n",
              "      <td>997</td>\n",
              "      <td>Felisa</td>\n",
              "      <td>Cail</td>\n",
              "      <td>Female</td>\n",
              "      <td>United States</td>\n",
              "      <td>28</td>\n",
              "      <td>16/08/2016</td>\n",
              "      <td>6525</td>\n",
              "    </tr>\n",
              "    <tr>\n",
              "      <th>997</th>\n",
              "      <td>998</td>\n",
              "      <td>Demetria</td>\n",
              "      <td>Abbey</td>\n",
              "      <td>Female</td>\n",
              "      <td>United States</td>\n",
              "      <td>32</td>\n",
              "      <td>21/05/2015</td>\n",
              "      <td>3265</td>\n",
              "    </tr>\n",
              "    <tr>\n",
              "      <th>998</th>\n",
              "      <td>999</td>\n",
              "      <td>Jeromy</td>\n",
              "      <td>Danz</td>\n",
              "      <td>Male</td>\n",
              "      <td>United States</td>\n",
              "      <td>39</td>\n",
              "      <td>15/10/2017</td>\n",
              "      <td>3265</td>\n",
              "    </tr>\n",
              "    <tr>\n",
              "      <th>999</th>\n",
              "      <td>1000</td>\n",
              "      <td>Rasheeda</td>\n",
              "      <td>Alkire</td>\n",
              "      <td>Female</td>\n",
              "      <td>United States</td>\n",
              "      <td>29</td>\n",
              "      <td>16/08/2016</td>\n",
              "      <td>6125</td>\n",
              "    </tr>\n",
              "  </tbody>\n",
              "</table>\n",
              "<p>1000 rows × 8 columns</p>\n",
              "</div>"
            ],
            "text/plain": [
              "     Unnamed: 0 First Name   Last Name  ... Age        Date    Id\n",
              "0             1      Dulce       Abril  ...  32  15/10/2017  1562\n",
              "1             2       Mara   Hashimoto  ...  25  16/08/2016  1582\n",
              "2             3     Philip        Gent  ...  36  21/05/2015  2587\n",
              "3             4   Kathleen      Hanner  ...  25  15/10/2017  3549\n",
              "4             5    Nereida     Magwood  ...  58  16/08/2016  2468\n",
              "..          ...        ...         ...  ...  ..         ...   ...\n",
              "995         996       Roma  Lafollette  ...  34  15/10/2017  2654\n",
              "996         997     Felisa        Cail  ...  28  16/08/2016  6525\n",
              "997         998   Demetria       Abbey  ...  32  21/05/2015  3265\n",
              "998         999     Jeromy        Danz  ...  39  15/10/2017  3265\n",
              "999        1000   Rasheeda      Alkire  ...  29  16/08/2016  6125\n",
              "\n",
              "[1000 rows x 8 columns]"
            ]
          },
          "metadata": {
            "tags": []
          },
          "execution_count": 120
        }
      ]
    },
    {
      "cell_type": "code",
      "metadata": {
        "id": "tB25_D_zPNFV",
        "colab": {
          "base_uri": "https://localhost:8080/",
          "height": 419
        },
        "outputId": "8459a174-4a0c-411e-f234-b959d5f5581c"
      },
      "source": [
        "# 1.1. Удаление столбца Unnamed\r\n",
        "df2 = df.drop(['Unnamed: 0'], axis = 'columns')\r\n",
        "df2"
      ],
      "execution_count": null,
      "outputs": [
        {
          "output_type": "execute_result",
          "data": {
            "text/html": [
              "<div>\n",
              "<style scoped>\n",
              "    .dataframe tbody tr th:only-of-type {\n",
              "        vertical-align: middle;\n",
              "    }\n",
              "\n",
              "    .dataframe tbody tr th {\n",
              "        vertical-align: top;\n",
              "    }\n",
              "\n",
              "    .dataframe thead th {\n",
              "        text-align: right;\n",
              "    }\n",
              "</style>\n",
              "<table border=\"1\" class=\"dataframe\">\n",
              "  <thead>\n",
              "    <tr style=\"text-align: right;\">\n",
              "      <th></th>\n",
              "      <th>First Name</th>\n",
              "      <th>Last Name</th>\n",
              "      <th>Gender</th>\n",
              "      <th>Country</th>\n",
              "      <th>Age</th>\n",
              "      <th>Date</th>\n",
              "      <th>Id</th>\n",
              "    </tr>\n",
              "  </thead>\n",
              "  <tbody>\n",
              "    <tr>\n",
              "      <th>0</th>\n",
              "      <td>Dulce</td>\n",
              "      <td>Abril</td>\n",
              "      <td>Female</td>\n",
              "      <td>United States</td>\n",
              "      <td>32</td>\n",
              "      <td>15/10/2017</td>\n",
              "      <td>1562</td>\n",
              "    </tr>\n",
              "    <tr>\n",
              "      <th>1</th>\n",
              "      <td>Mara</td>\n",
              "      <td>Hashimoto</td>\n",
              "      <td>Female</td>\n",
              "      <td>Great Britain</td>\n",
              "      <td>25</td>\n",
              "      <td>16/08/2016</td>\n",
              "      <td>1582</td>\n",
              "    </tr>\n",
              "    <tr>\n",
              "      <th>2</th>\n",
              "      <td>Philip</td>\n",
              "      <td>Gent</td>\n",
              "      <td>Male</td>\n",
              "      <td>France</td>\n",
              "      <td>36</td>\n",
              "      <td>21/05/2015</td>\n",
              "      <td>2587</td>\n",
              "    </tr>\n",
              "    <tr>\n",
              "      <th>3</th>\n",
              "      <td>Kathleen</td>\n",
              "      <td>Hanner</td>\n",
              "      <td>Female</td>\n",
              "      <td>United States</td>\n",
              "      <td>25</td>\n",
              "      <td>15/10/2017</td>\n",
              "      <td>3549</td>\n",
              "    </tr>\n",
              "    <tr>\n",
              "      <th>4</th>\n",
              "      <td>Nereida</td>\n",
              "      <td>Magwood</td>\n",
              "      <td>Female</td>\n",
              "      <td>United States</td>\n",
              "      <td>58</td>\n",
              "      <td>16/08/2016</td>\n",
              "      <td>2468</td>\n",
              "    </tr>\n",
              "    <tr>\n",
              "      <th>...</th>\n",
              "      <td>...</td>\n",
              "      <td>...</td>\n",
              "      <td>...</td>\n",
              "      <td>...</td>\n",
              "      <td>...</td>\n",
              "      <td>...</td>\n",
              "      <td>...</td>\n",
              "    </tr>\n",
              "    <tr>\n",
              "      <th>995</th>\n",
              "      <td>Roma</td>\n",
              "      <td>Lafollette</td>\n",
              "      <td>Female</td>\n",
              "      <td>United States</td>\n",
              "      <td>34</td>\n",
              "      <td>15/10/2017</td>\n",
              "      <td>2654</td>\n",
              "    </tr>\n",
              "    <tr>\n",
              "      <th>996</th>\n",
              "      <td>Felisa</td>\n",
              "      <td>Cail</td>\n",
              "      <td>Female</td>\n",
              "      <td>United States</td>\n",
              "      <td>28</td>\n",
              "      <td>16/08/2016</td>\n",
              "      <td>6525</td>\n",
              "    </tr>\n",
              "    <tr>\n",
              "      <th>997</th>\n",
              "      <td>Demetria</td>\n",
              "      <td>Abbey</td>\n",
              "      <td>Female</td>\n",
              "      <td>United States</td>\n",
              "      <td>32</td>\n",
              "      <td>21/05/2015</td>\n",
              "      <td>3265</td>\n",
              "    </tr>\n",
              "    <tr>\n",
              "      <th>998</th>\n",
              "      <td>Jeromy</td>\n",
              "      <td>Danz</td>\n",
              "      <td>Male</td>\n",
              "      <td>United States</td>\n",
              "      <td>39</td>\n",
              "      <td>15/10/2017</td>\n",
              "      <td>3265</td>\n",
              "    </tr>\n",
              "    <tr>\n",
              "      <th>999</th>\n",
              "      <td>Rasheeda</td>\n",
              "      <td>Alkire</td>\n",
              "      <td>Female</td>\n",
              "      <td>United States</td>\n",
              "      <td>29</td>\n",
              "      <td>16/08/2016</td>\n",
              "      <td>6125</td>\n",
              "    </tr>\n",
              "  </tbody>\n",
              "</table>\n",
              "<p>1000 rows × 7 columns</p>\n",
              "</div>"
            ],
            "text/plain": [
              "    First Name   Last Name  Gender        Country  Age        Date    Id\n",
              "0        Dulce       Abril  Female  United States   32  15/10/2017  1562\n",
              "1         Mara   Hashimoto  Female  Great Britain   25  16/08/2016  1582\n",
              "2       Philip        Gent    Male         France   36  21/05/2015  2587\n",
              "3     Kathleen      Hanner  Female  United States   25  15/10/2017  3549\n",
              "4      Nereida     Magwood  Female  United States   58  16/08/2016  2468\n",
              "..         ...         ...     ...            ...  ...         ...   ...\n",
              "995       Roma  Lafollette  Female  United States   34  15/10/2017  2654\n",
              "996     Felisa        Cail  Female  United States   28  16/08/2016  6525\n",
              "997   Demetria       Abbey  Female  United States   32  21/05/2015  3265\n",
              "998     Jeromy        Danz    Male  United States   39  15/10/2017  3265\n",
              "999   Rasheeda      Alkire  Female  United States   29  16/08/2016  6125\n",
              "\n",
              "[1000 rows x 7 columns]"
            ]
          },
          "metadata": {
            "tags": []
          },
          "execution_count": 121
        }
      ]
    },
    {
      "cell_type": "code",
      "metadata": {
        "id": "rghwcbIci9Vr"
      },
      "source": [
        ""
      ],
      "execution_count": null,
      "outputs": []
    },
    {
      "cell_type": "code",
      "metadata": {
        "colab": {
          "base_uri": "https://localhost:8080/"
        },
        "id": "u0or_7CIYnQ3",
        "outputId": "54597819-c7b4-49b6-be72-f6c60d905b1a"
      },
      "source": [
        "# 1.2. Сортировка людей по возрасту\r\n",
        "df3 = df2.sort_values(['Age'], ascending = True)\r\n",
        "\r\n",
        "# Если нужно отсортировать именно людей, а не строки в таблице, берём уникальные записи\r\n",
        "df3u = df2.drop_duplicates()\r\n",
        "df3u = df3u.sort_values(['Age'], ascending = True)\r\n",
        "\r\n",
        "df3, df3u"
      ],
      "execution_count": null,
      "outputs": [
        {
          "output_type": "execute_result",
          "data": {
            "text/plain": [
              "(    First Name Last Name  Gender        Country  Age        Date    Id\n",
              " 824     Lester   Prothro    Male         France   21  15/10/2017  6574\n",
              " 24      Lester   Prothro    Male         France   21  15/10/2017  6574\n",
              " 574     Lester   Prothro    Male         France   21  15/10/2017  6574\n",
              " 324     Lester   Prothro    Male         France   21  15/10/2017  6574\n",
              " 124     Lester   Prothro    Male         France   21  15/10/2017  6574\n",
              " ..         ...       ...     ...            ...  ...         ...   ...\n",
              " 954    Nereida   Magwood  Female  United States   58  16/08/2016  2468\n",
              " 54     Nereida   Magwood  Female  United States   58  16/08/2016  2468\n",
              " 654    Nereida   Magwood  Female  United States   58  16/08/2016  2468\n",
              " 504    Nereida   Magwood  Female  United States   58  16/08/2016  2468\n",
              " 154    Nereida   Magwood  Female  United States   58  16/08/2016  2468\n",
              " \n",
              " [1000 rows x 7 columns],\n",
              "    First Name   Last Name  Gender        Country  Age        Date    Id\n",
              " 24     Lester     Prothro    Male         France   21  15/10/2017  6574\n",
              " 27  Francesca   Beaudreau  Female         France   23  15/10/2017  5412\n",
              " 15   Shavonne         Pia  Female         France   24  21/05/2015  1546\n",
              " 42      Angel       Sanor    Male         France   24  15/10/2017  3259\n",
              " 5      Gaston       Brumm    Male  United States   24  21/05/2015  2554\n",
              " 37        Sau        Pfau  Female  United States   25  21/05/2015  9536\n",
              " 3    Kathleen      Hanner  Female  United States   25  15/10/2017  3549\n",
              " 1        Mara   Hashimoto  Female  Great Britain   25  16/08/2016  1582\n",
              " 40     Tommie   Underdahl    Male  United States   26  16/08/2016  3265\n",
              " 13     Marcel   Zabriskie    Male  Great Britain   26  21/05/2015  2587\n",
              " 32       Jona     Grindle  Female  Great Britain   26  21/05/2015  6458\n",
              " 18     Loreta      Curren  Female         France   26  21/05/2015  9654\n",
              " 44     Weston     Martina    Male  United States   26  21/05/2015  6540\n",
              " 7     Earlean      Melgar  Female  United States   27  16/08/2016  2456\n",
              " 36     Kelsie     Wachtel  Female         France   27  16/08/2016  8642\n",
              " 9      Fallon     Winward  Female  Great Britain   28  16/08/2016  5486\n",
              " 46     Felisa        Cail  Female  United States   28  16/08/2016  6525\n",
              " 29      Carla    Trumbull  Female  Great Britain   28  21/05/2015  3264\n",
              " 17   Lauralee     Perrine  Female  Great Britain   28  16/08/2016  6597\n",
              " 25     Marvel        Hail  Female  Great Britain   28  16/08/2016  5555\n",
              " 26    Angelyn        Vong  Female  United States   29  21/05/2015  6125\n",
              " 35       Nena      Hacker  Female  United States   29  15/10/2017  8563\n",
              " 49   Rasheeda      Alkire  Female  United States   29  16/08/2016  6125\n",
              " 14       Kina    Hazelton  Female  Great Britain   31  16/08/2016  3259\n",
              " 0       Dulce       Abril  Female  United States   32  15/10/2017  1562\n",
              " 47   Demetria       Abbey  Female  United States   32  21/05/2015  3265\n",
              " 12    Sherron    Ascencio  Female  Great Britain   32  16/08/2016  3256\n",
              " 45       Roma  Lafollette  Female  United States   34  15/10/2017  2654\n",
              " 31     Stasia      Becker  Female  Great Britain   34  16/08/2016  7521\n",
              " 33      Judie    Claywell  Female         France   35  16/08/2016  7569\n",
              " 2      Philip        Gent    Male         France   36  21/05/2015  2587\n",
              " 34     Dewitt      Borger    Male  United States   36  21/05/2015  8514\n",
              " 38    Shanice   Mccrystal  Female  United States   36  21/05/2015  2567\n",
              " 20    Belinda     Partain  Female  United States   37  15/10/2017  2564\n",
              " 41     Dorcas      Darity  Female  United States   37  21/05/2015  8765\n",
              " 39      Chase      Karner    Male  United States   37  15/10/2017  2154\n",
              " 30       Veta       Muntz  Female  Great Britain   37  15/10/2017  4569\n",
              " 11   Franklyn      Unknow    Male         France   38  15/10/2017  2579\n",
              " 16     Shavon      Benito  Female         France   39  15/10/2017  3579\n",
              " 43  Willodean        Harn  Female  United States   39  16/08/2016  3567\n",
              " 48     Jeromy        Danz    Male  United States   39  15/10/2017  3265\n",
              " 10    Arcelia      Bouska  Female  Great Britain   39  21/05/2015  1258\n",
              " 8    Vincenza     Weiland  Female  United States   40  21/05/2015  6548\n",
              " 28      Garth       Gangi    Male  United States   41  16/08/2016  3256\n",
              " 23     Libbie       Dalby  Female         France   42  21/05/2015  5489\n",
              " 22       Many      Cuccia  Female  Great Britain   46  21/05/2015  5489\n",
              " 19     Teresa      Strawn  Female         France   46  21/05/2015  3569\n",
              " 21      Holly        Eudy  Female  United States   52  16/08/2016  8561\n",
              " 6        Etta        Hurn  Female  Great Britain   56  15/10/2017  3598\n",
              " 4     Nereida     Magwood  Female  United States   58  16/08/2016  2468)"
            ]
          },
          "metadata": {
            "tags": []
          },
          "execution_count": 122
        }
      ]
    },
    {
      "cell_type": "code",
      "metadata": {
        "colab": {
          "base_uri": "https://localhost:8080/"
        },
        "id": "3MeTEuTxaxh_",
        "outputId": "67dc818c-8498-44bf-9b39-bb0a1df7e4d0"
      },
      "source": [
        "# 1.3. Разделение людей по полу\r\n",
        "female = df3.loc[df3['Gender'] == 'Female']\r\n",
        "male = df3.loc[df3['Gender'] == 'Male']\r\n",
        "\r\n",
        "# аналогично уникальные\r\n",
        "female_u = df3u.loc[df3u['Gender'] == 'Female']\r\n",
        "male_u = df3u.loc[df3u['Gender'] == 'Male']\r\n",
        "\r\n",
        "female, male, female_u, male_u"
      ],
      "execution_count": null,
      "outputs": [
        {
          "output_type": "execute_result",
          "data": {
            "text/plain": [
              "(    First Name  Last Name  Gender        Country  Age        Date    Id\n",
              " 277  Francesca  Beaudreau  Female         France   23  15/10/2017  5412\n",
              " 227  Francesca  Beaudreau  Female         France   23  15/10/2017  5412\n",
              " 77   Francesca  Beaudreau  Female         France   23  15/10/2017  5412\n",
              " 577  Francesca  Beaudreau  Female         France   23  15/10/2017  5412\n",
              " 177  Francesca  Beaudreau  Female         France   23  15/10/2017  5412\n",
              " ..         ...        ...     ...            ...  ...         ...   ...\n",
              " 954    Nereida    Magwood  Female  United States   58  16/08/2016  2468\n",
              " 54     Nereida    Magwood  Female  United States   58  16/08/2016  2468\n",
              " 654    Nereida    Magwood  Female  United States   58  16/08/2016  2468\n",
              " 504    Nereida    Magwood  Female  United States   58  16/08/2016  2468\n",
              " 154    Nereida    Magwood  Female  United States   58  16/08/2016  2468\n",
              " \n",
              " [760 rows x 7 columns],\n",
              "     First Name Last Name Gender        Country  Age        Date    Id\n",
              " 824     Lester   Prothro   Male         France   21  15/10/2017  6574\n",
              " 24      Lester   Prothro   Male         France   21  15/10/2017  6574\n",
              " 574     Lester   Prothro   Male         France   21  15/10/2017  6574\n",
              " 324     Lester   Prothro   Male         France   21  15/10/2017  6574\n",
              " 124     Lester   Prothro   Male         France   21  15/10/2017  6574\n",
              " ..         ...       ...    ...            ...  ...         ...   ...\n",
              " 778      Garth     Gangi   Male  United States   41  16/08/2016  3256\n",
              " 978      Garth     Gangi   Male  United States   41  16/08/2016  3256\n",
              " 678      Garth     Gangi   Male  United States   41  16/08/2016  3256\n",
              " 528      Garth     Gangi   Male  United States   41  16/08/2016  3256\n",
              " 478      Garth     Gangi   Male  United States   41  16/08/2016  3256\n",
              " \n",
              " [240 rows x 7 columns],\n",
              "    First Name   Last Name  Gender        Country  Age        Date    Id\n",
              " 27  Francesca   Beaudreau  Female         France   23  15/10/2017  5412\n",
              " 15   Shavonne         Pia  Female         France   24  21/05/2015  1546\n",
              " 37        Sau        Pfau  Female  United States   25  21/05/2015  9536\n",
              " 3    Kathleen      Hanner  Female  United States   25  15/10/2017  3549\n",
              " 1        Mara   Hashimoto  Female  Great Britain   25  16/08/2016  1582\n",
              " 32       Jona     Grindle  Female  Great Britain   26  21/05/2015  6458\n",
              " 18     Loreta      Curren  Female         France   26  21/05/2015  9654\n",
              " 7     Earlean      Melgar  Female  United States   27  16/08/2016  2456\n",
              " 36     Kelsie     Wachtel  Female         France   27  16/08/2016  8642\n",
              " 9      Fallon     Winward  Female  Great Britain   28  16/08/2016  5486\n",
              " 46     Felisa        Cail  Female  United States   28  16/08/2016  6525\n",
              " 29      Carla    Trumbull  Female  Great Britain   28  21/05/2015  3264\n",
              " 17   Lauralee     Perrine  Female  Great Britain   28  16/08/2016  6597\n",
              " 25     Marvel        Hail  Female  Great Britain   28  16/08/2016  5555\n",
              " 26    Angelyn        Vong  Female  United States   29  21/05/2015  6125\n",
              " 35       Nena      Hacker  Female  United States   29  15/10/2017  8563\n",
              " 49   Rasheeda      Alkire  Female  United States   29  16/08/2016  6125\n",
              " 14       Kina    Hazelton  Female  Great Britain   31  16/08/2016  3259\n",
              " 0       Dulce       Abril  Female  United States   32  15/10/2017  1562\n",
              " 47   Demetria       Abbey  Female  United States   32  21/05/2015  3265\n",
              " 12    Sherron    Ascencio  Female  Great Britain   32  16/08/2016  3256\n",
              " 45       Roma  Lafollette  Female  United States   34  15/10/2017  2654\n",
              " 31     Stasia      Becker  Female  Great Britain   34  16/08/2016  7521\n",
              " 33      Judie    Claywell  Female         France   35  16/08/2016  7569\n",
              " 38    Shanice   Mccrystal  Female  United States   36  21/05/2015  2567\n",
              " 20    Belinda     Partain  Female  United States   37  15/10/2017  2564\n",
              " 41     Dorcas      Darity  Female  United States   37  21/05/2015  8765\n",
              " 30       Veta       Muntz  Female  Great Britain   37  15/10/2017  4569\n",
              " 16     Shavon      Benito  Female         France   39  15/10/2017  3579\n",
              " 43  Willodean        Harn  Female  United States   39  16/08/2016  3567\n",
              " 10    Arcelia      Bouska  Female  Great Britain   39  21/05/2015  1258\n",
              " 8    Vincenza     Weiland  Female  United States   40  21/05/2015  6548\n",
              " 23     Libbie       Dalby  Female         France   42  21/05/2015  5489\n",
              " 22       Many      Cuccia  Female  Great Britain   46  21/05/2015  5489\n",
              " 19     Teresa      Strawn  Female         France   46  21/05/2015  3569\n",
              " 21      Holly        Eudy  Female  United States   52  16/08/2016  8561\n",
              " 6        Etta        Hurn  Female  Great Britain   56  15/10/2017  3598\n",
              " 4     Nereida     Magwood  Female  United States   58  16/08/2016  2468,\n",
              "    First Name  Last Name Gender        Country  Age        Date    Id\n",
              " 24     Lester    Prothro   Male         France   21  15/10/2017  6574\n",
              " 42      Angel      Sanor   Male         France   24  15/10/2017  3259\n",
              " 5      Gaston      Brumm   Male  United States   24  21/05/2015  2554\n",
              " 40     Tommie  Underdahl   Male  United States   26  16/08/2016  3265\n",
              " 13     Marcel  Zabriskie   Male  Great Britain   26  21/05/2015  2587\n",
              " 44     Weston    Martina   Male  United States   26  21/05/2015  6540\n",
              " 2      Philip       Gent   Male         France   36  21/05/2015  2587\n",
              " 34     Dewitt     Borger   Male  United States   36  21/05/2015  8514\n",
              " 39      Chase     Karner   Male  United States   37  15/10/2017  2154\n",
              " 11   Franklyn     Unknow   Male         France   38  15/10/2017  2579\n",
              " 48     Jeromy       Danz   Male  United States   39  15/10/2017  3265\n",
              " 28      Garth      Gangi   Male  United States   41  16/08/2016  3256)"
            ]
          },
          "metadata": {
            "tags": []
          },
          "execution_count": 123
        }
      ]
    },
    {
      "cell_type": "code",
      "metadata": {
        "colab": {
          "base_uri": "https://localhost:8080/",
          "height": 282
        },
        "id": "oQSm6D2QjeJd",
        "outputId": "7fcb9493-6576-489b-efd1-d4ae95915f37"
      },
      "source": [
        "# 1.4. Гистограммы возрастов мужчин и женщин\r\n",
        "#гистограммы вижу смысл строить только из уникальных значений\r\n",
        "import matplotlib.pyplot as plt\r\n",
        "\r\n",
        "x = female_u['Age'].value_counts().reset_index()\r\n",
        "x.columns = ['Age', 'Frequency']\r\n",
        "x = x.sort_values(['Age'], ascending = True)\r\n",
        "\r\n",
        "plt.bar (x.Age, x.Frequency)"
      ],
      "execution_count": null,
      "outputs": [
        {
          "output_type": "execute_result",
          "data": {
            "text/plain": [
              "<BarContainer object of 20 artists>"
            ]
          },
          "metadata": {
            "tags": []
          },
          "execution_count": 158
        },
        {
          "output_type": "display_data",
          "data": {
            "image/png": "[encoded data removed]",
            "text/plain": [
              "<Figure size 432x288 with 1 Axes>"
            ]
          },
          "metadata": {
            "tags": [],
            "needs_background": "light"
          }
        }
      ]
    },
    {
      "cell_type": "code",
      "metadata": {
        "colab": {
          "base_uri": "https://localhost:8080/",
          "height": 282
        },
        "id": "p6Bcu7q00vNp",
        "outputId": "c9342b35-a31e-4785-f6e7-dccbb265823a"
      },
      "source": [
        "y = male_u['Age'].value_counts().reset_index()\r\n",
        "y.columns = ['Age', 'Frequency']\r\n",
        "y = y.sort_values(['Age'], ascending = True)\r\n",
        "\r\n",
        "plt.bar (y.Age, y.Frequency)"
      ],
      "execution_count": null,
      "outputs": [
        {
          "output_type": "execute_result",
          "data": {
            "text/plain": [
              "<BarContainer object of 8 artists>"
            ]
          },
          "metadata": {
            "tags": []
          },
          "execution_count": 159
        },
        {
          "output_type": "display_data",
          "data": {
            "image/png": "[encoded data removed]",
            "text/plain": [
              "<Figure size 432x288 with 1 Axes>"
            ]
          },
          "metadata": {
            "tags": [],
            "needs_background": "light"
          }
        }
      ]
    },
    {
      "cell_type": "markdown",
      "metadata": {
        "id": "5taxu3miSr6l"
      },
      "source": [
        "# Задание 2\n",
        " "
      ]
    },
    {
      "cell_type": "code",
      "metadata": {
        "colab": {
          "base_uri": "https://localhost:8080/",
          "height": 419
        },
        "id": "bufkpwAYPNIP",
        "outputId": "6cb7fb4e-98e1-41e4-862a-f0d0621922b9"
      },
      "source": [
        "import pandas as pd\n",
        "df = pd.read_csv('https://raw.githubusercontent.com/ddvika/Data-Science-School-2020/main/hw_intermediate/materials/appl_1980_2014.csv')\n",
        "df"
      ],
      "execution_count": null,
      "outputs": [
        {
          "output_type": "execute_result",
          "data": {
            "text/html": [
              "<div>\n",
              "<style scoped>\n",
              "    .dataframe tbody tr th:only-of-type {\n",
              "        vertical-align: middle;\n",
              "    }\n",
              "\n",
              "    .dataframe tbody tr th {\n",
              "        vertical-align: top;\n",
              "    }\n",
              "\n",
              "    .dataframe thead th {\n",
              "        text-align: right;\n",
              "    }\n",
              "</style>\n",
              "<table border=\"1\" class=\"dataframe\">\n",
              "  <thead>\n",
              "    <tr style=\"text-align: right;\">\n",
              "      <th></th>\n",
              "      <th>Unnamed: 0</th>\n",
              "      <th>Date</th>\n",
              "      <th>Open</th>\n",
              "      <th>High</th>\n",
              "      <th>Low</th>\n",
              "      <th>Close</th>\n",
              "      <th>Volume</th>\n",
              "      <th>Adj Close</th>\n",
              "    </tr>\n",
              "  </thead>\n",
              "  <tbody>\n",
              "    <tr>\n",
              "      <th>0</th>\n",
              "      <td>0</td>\n",
              "      <td>2014-07-08</td>\n",
              "      <td>96.27</td>\n",
              "      <td>96.80</td>\n",
              "      <td>93.92</td>\n",
              "      <td>95.35</td>\n",
              "      <td>65130000</td>\n",
              "      <td>95.35</td>\n",
              "    </tr>\n",
              "    <tr>\n",
              "      <th>1</th>\n",
              "      <td>1</td>\n",
              "      <td>2014-07-07</td>\n",
              "      <td>94.14</td>\n",
              "      <td>95.99</td>\n",
              "      <td>94.10</td>\n",
              "      <td>95.97</td>\n",
              "      <td>56305400</td>\n",
              "      <td>95.97</td>\n",
              "    </tr>\n",
              "    <tr>\n",
              "      <th>2</th>\n",
              "      <td>2</td>\n",
              "      <td>2014-07-03</td>\n",
              "      <td>93.67</td>\n",
              "      <td>94.10</td>\n",
              "      <td>93.20</td>\n",
              "      <td>94.03</td>\n",
              "      <td>22891800</td>\n",
              "      <td>94.03</td>\n",
              "    </tr>\n",
              "    <tr>\n",
              "      <th>3</th>\n",
              "      <td>3</td>\n",
              "      <td>2014-07-02</td>\n",
              "      <td>93.87</td>\n",
              "      <td>94.06</td>\n",
              "      <td>93.09</td>\n",
              "      <td>93.48</td>\n",
              "      <td>28420900</td>\n",
              "      <td>93.48</td>\n",
              "    </tr>\n",
              "    <tr>\n",
              "      <th>4</th>\n",
              "      <td>4</td>\n",
              "      <td>2014-07-01</td>\n",
              "      <td>93.52</td>\n",
              "      <td>94.07</td>\n",
              "      <td>93.13</td>\n",
              "      <td>93.52</td>\n",
              "      <td>38170200</td>\n",
              "      <td>93.52</td>\n",
              "    </tr>\n",
              "    <tr>\n",
              "      <th>...</th>\n",
              "      <td>...</td>\n",
              "      <td>...</td>\n",
              "      <td>...</td>\n",
              "      <td>...</td>\n",
              "      <td>...</td>\n",
              "      <td>...</td>\n",
              "      <td>...</td>\n",
              "      <td>...</td>\n",
              "    </tr>\n",
              "    <tr>\n",
              "      <th>8460</th>\n",
              "      <td>8460</td>\n",
              "      <td>1980-12-18</td>\n",
              "      <td>26.63</td>\n",
              "      <td>26.75</td>\n",
              "      <td>26.63</td>\n",
              "      <td>26.63</td>\n",
              "      <td>18362400</td>\n",
              "      <td>0.41</td>\n",
              "    </tr>\n",
              "    <tr>\n",
              "      <th>8461</th>\n",
              "      <td>8461</td>\n",
              "      <td>1980-12-17</td>\n",
              "      <td>25.87</td>\n",
              "      <td>26.00</td>\n",
              "      <td>25.87</td>\n",
              "      <td>25.87</td>\n",
              "      <td>21610400</td>\n",
              "      <td>0.40</td>\n",
              "    </tr>\n",
              "    <tr>\n",
              "      <th>8462</th>\n",
              "      <td>8462</td>\n",
              "      <td>1980-12-16</td>\n",
              "      <td>25.37</td>\n",
              "      <td>25.37</td>\n",
              "      <td>25.25</td>\n",
              "      <td>25.25</td>\n",
              "      <td>26432000</td>\n",
              "      <td>0.39</td>\n",
              "    </tr>\n",
              "    <tr>\n",
              "      <th>8463</th>\n",
              "      <td>8463</td>\n",
              "      <td>1980-12-15</td>\n",
              "      <td>27.38</td>\n",
              "      <td>27.38</td>\n",
              "      <td>27.25</td>\n",
              "      <td>27.25</td>\n",
              "      <td>43971200</td>\n",
              "      <td>0.42</td>\n",
              "    </tr>\n",
              "    <tr>\n",
              "      <th>8464</th>\n",
              "      <td>8464</td>\n",
              "      <td>1980-12-12</td>\n",
              "      <td>28.75</td>\n",
              "      <td>28.87</td>\n",
              "      <td>28.75</td>\n",
              "      <td>28.75</td>\n",
              "      <td>117258400</td>\n",
              "      <td>0.45</td>\n",
              "    </tr>\n",
              "  </tbody>\n",
              "</table>\n",
              "<p>8465 rows × 8 columns</p>\n",
              "</div>"
            ],
            "text/plain": [
              "      Unnamed: 0        Date   Open   High    Low  Close     Volume  Adj Close\n",
              "0              0  2014-07-08  96.27  96.80  93.92  95.35   65130000      95.35\n",
              "1              1  2014-07-07  94.14  95.99  94.10  95.97   56305400      95.97\n",
              "2              2  2014-07-03  93.67  94.10  93.20  94.03   22891800      94.03\n",
              "3              3  2014-07-02  93.87  94.06  93.09  93.48   28420900      93.48\n",
              "4              4  2014-07-01  93.52  94.07  93.13  93.52   38170200      93.52\n",
              "...          ...         ...    ...    ...    ...    ...        ...        ...\n",
              "8460        8460  1980-12-18  26.63  26.75  26.63  26.63   18362400       0.41\n",
              "8461        8461  1980-12-17  25.87  26.00  25.87  25.87   21610400       0.40\n",
              "8462        8462  1980-12-16  25.37  25.37  25.25  25.25   26432000       0.39\n",
              "8463        8463  1980-12-15  27.38  27.38  27.25  27.25   43971200       0.42\n",
              "8464        8464  1980-12-12  28.75  28.87  28.75  28.75  117258400       0.45\n",
              "\n",
              "[8465 rows x 8 columns]"
            ]
          },
          "metadata": {
            "tags": []
          },
          "execution_count": 131
        }
      ]
    },
    {
      "cell_type": "markdown",
      "metadata": {
        "id": "ltZV5S5TUXUC"
      },
      "source": [
        "**0.5 point**\n",
        "- убрать ненужный столбец Unnamed\n",
        "\n",
        "**0.5 point**\n",
        "- Проверьте тип данных в столбцах\n",
        "\n",
        "**0.5 point**\n",
        "- Преобразуйте столбец Date в тип datetime\n",
        "\n",
        "**0.5 point**\n",
        "- Установите дату в качестве индекса\n",
        "\n",
        "**0.5 point**\n",
        "- Есть ли повторяющиеся даты?\n",
        "\n",
        "**0.5 point**\n",
        "- Получите последний рабочий день каждого месяца\n",
        "\n",
        "**0.5 point**\n",
        "- Какая разница в днях между первым днем и самым давним?\n",
        "\n",
        "**0.5 point**\n",
        "- Сколько месяцев у нас есть в данных?\n",
        "\n",
        "**0.5 point**\n",
        "-  Постройте значение «Adj Close». Установите размер рисунка 13,5 х 9 дюймов.\n",
        "\n",
        "**Доп. задание (макс балл 1.5)**\n",
        "- Придумайте собственные вопросы и ответьте на них. Также можете нарисовать какие-то интересные графики.\n"
      ]
    },
    {
      "cell_type": "code",
      "metadata": {
        "id": "ZdTeTiF0PNQO",
        "colab": {
          "base_uri": "https://localhost:8080/",
          "height": 419
        },
        "outputId": "09e74386-9c9d-4e8d-cc97-f42ae3b57f51"
      },
      "source": [
        "# 2.1. Удаление столбца Unnamed\r\n",
        "df2 = df.drop(['Unnamed: 0'], axis = 'columns')\r\n",
        "df2"
      ],
      "execution_count": null,
      "outputs": [
        {
          "output_type": "execute_result",
          "data": {
            "text/html": [
              "<div>\n",
              "<style scoped>\n",
              "    .dataframe tbody tr th:only-of-type {\n",
              "        vertical-align: middle;\n",
              "    }\n",
              "\n",
              "    .dataframe tbody tr th {\n",
              "        vertical-align: top;\n",
              "    }\n",
              "\n",
              "    .dataframe thead th {\n",
              "        text-align: right;\n",
              "    }\n",
              "</style>\n",
              "<table border=\"1\" class=\"dataframe\">\n",
              "  <thead>\n",
              "    <tr style=\"text-align: right;\">\n",
              "      <th></th>\n",
              "      <th>Date</th>\n",
              "      <th>Open</th>\n",
              "      <th>High</th>\n",
              "      <th>Low</th>\n",
              "      <th>Close</th>\n",
              "      <th>Volume</th>\n",
              "      <th>Adj Close</th>\n",
              "    </tr>\n",
              "  </thead>\n",
              "  <tbody>\n",
              "    <tr>\n",
              "      <th>0</th>\n",
              "      <td>2014-07-08</td>\n",
              "      <td>96.27</td>\n",
              "      <td>96.80</td>\n",
              "      <td>93.92</td>\n",
              "      <td>95.35</td>\n",
              "      <td>65130000</td>\n",
              "      <td>95.35</td>\n",
              "    </tr>\n",
              "    <tr>\n",
              "      <th>1</th>\n",
              "      <td>2014-07-07</td>\n",
              "      <td>94.14</td>\n",
              "      <td>95.99</td>\n",
              "      <td>94.10</td>\n",
              "      <td>95.97</td>\n",
              "      <td>56305400</td>\n",
              "      <td>95.97</td>\n",
              "    </tr>\n",
              "    <tr>\n",
              "      <th>2</th>\n",
              "      <td>2014-07-03</td>\n",
              "      <td>93.67</td>\n",
              "      <td>94.10</td>\n",
              "      <td>93.20</td>\n",
              "      <td>94.03</td>\n",
              "      <td>22891800</td>\n",
              "      <td>94.03</td>\n",
              "    </tr>\n",
              "    <tr>\n",
              "      <th>3</th>\n",
              "      <td>2014-07-02</td>\n",
              "      <td>93.87</td>\n",
              "      <td>94.06</td>\n",
              "      <td>93.09</td>\n",
              "      <td>93.48</td>\n",
              "      <td>28420900</td>\n",
              "      <td>93.48</td>\n",
              "    </tr>\n",
              "    <tr>\n",
              "      <th>4</th>\n",
              "      <td>2014-07-01</td>\n",
              "      <td>93.52</td>\n",
              "      <td>94.07</td>\n",
              "      <td>93.13</td>\n",
              "      <td>93.52</td>\n",
              "      <td>38170200</td>\n",
              "      <td>93.52</td>\n",
              "    </tr>\n",
              "    <tr>\n",
              "      <th>...</th>\n",
              "      <td>...</td>\n",
              "      <td>...</td>\n",
              "      <td>...</td>\n",
              "      <td>...</td>\n",
              "      <td>...</td>\n",
              "      <td>...</td>\n",
              "      <td>...</td>\n",
              "    </tr>\n",
              "    <tr>\n",
              "      <th>8460</th>\n",
              "      <td>1980-12-18</td>\n",
              "      <td>26.63</td>\n",
              "      <td>26.75</td>\n",
              "      <td>26.63</td>\n",
              "      <td>26.63</td>\n",
              "      <td>18362400</td>\n",
              "      <td>0.41</td>\n",
              "    </tr>\n",
              "    <tr>\n",
              "      <th>8461</th>\n",
              "      <td>1980-12-17</td>\n",
              "      <td>25.87</td>\n",
              "      <td>26.00</td>\n",
              "      <td>25.87</td>\n",
              "      <td>25.87</td>\n",
              "      <td>21610400</td>\n",
              "      <td>0.40</td>\n",
              "    </tr>\n",
              "    <tr>\n",
              "      <th>8462</th>\n",
              "      <td>1980-12-16</td>\n",
              "      <td>25.37</td>\n",
              "      <td>25.37</td>\n",
              "      <td>25.25</td>\n",
              "      <td>25.25</td>\n",
              "      <td>26432000</td>\n",
              "      <td>0.39</td>\n",
              "    </tr>\n",
              "    <tr>\n",
              "      <th>8463</th>\n",
              "      <td>1980-12-15</td>\n",
              "      <td>27.38</td>\n",
              "      <td>27.38</td>\n",
              "      <td>27.25</td>\n",
              "      <td>27.25</td>\n",
              "      <td>43971200</td>\n",
              "      <td>0.42</td>\n",
              "    </tr>\n",
              "    <tr>\n",
              "      <th>8464</th>\n",
              "      <td>1980-12-12</td>\n",
              "      <td>28.75</td>\n",
              "      <td>28.87</td>\n",
              "      <td>28.75</td>\n",
              "      <td>28.75</td>\n",
              "      <td>117258400</td>\n",
              "      <td>0.45</td>\n",
              "    </tr>\n",
              "  </tbody>\n",
              "</table>\n",
              "<p>8465 rows × 7 columns</p>\n",
              "</div>"
            ],
            "text/plain": [
              "            Date   Open   High    Low  Close     Volume  Adj Close\n",
              "0     2014-07-08  96.27  96.80  93.92  95.35   65130000      95.35\n",
              "1     2014-07-07  94.14  95.99  94.10  95.97   56305400      95.97\n",
              "2     2014-07-03  93.67  94.10  93.20  94.03   22891800      94.03\n",
              "3     2014-07-02  93.87  94.06  93.09  93.48   28420900      93.48\n",
              "4     2014-07-01  93.52  94.07  93.13  93.52   38170200      93.52\n",
              "...          ...    ...    ...    ...    ...        ...        ...\n",
              "8460  1980-12-18  26.63  26.75  26.63  26.63   18362400       0.41\n",
              "8461  1980-12-17  25.87  26.00  25.87  25.87   21610400       0.40\n",
              "8462  1980-12-16  25.37  25.37  25.25  25.25   26432000       0.39\n",
              "8463  1980-12-15  27.38  27.38  27.25  27.25   43971200       0.42\n",
              "8464  1980-12-12  28.75  28.87  28.75  28.75  117258400       0.45\n",
              "\n",
              "[8465 rows x 7 columns]"
            ]
          },
          "metadata": {
            "tags": []
          },
          "execution_count": 132
        }
      ]
    },
    {
      "cell_type": "code",
      "metadata": {
        "id": "XFHIjtYGPNTA",
        "colab": {
          "base_uri": "https://localhost:8080/"
        },
        "outputId": "398190f8-f645-4bcf-ae67-9bdedebbdd3f"
      },
      "source": [
        "# 2.2. Проверка типов данных в столбцах\r\n",
        "df2.dtypes"
      ],
      "execution_count": null,
      "outputs": [
        {
          "output_type": "execute_result",
          "data": {
            "text/plain": [
              "Date          object\n",
              "Open         float64\n",
              "High         float64\n",
              "Low          float64\n",
              "Close        float64\n",
              "Volume         int64\n",
              "Adj Close    float64\n",
              "dtype: object"
            ]
          },
          "metadata": {
            "tags": []
          },
          "execution_count": 133
        }
      ]
    },
    {
      "cell_type": "code",
      "metadata": {
        "colab": {
          "base_uri": "https://localhost:8080/"
        },
        "id": "loked8-hcvTJ",
        "outputId": "f4cc24c2-5240-4d6f-cb6b-a1edf1e1049d"
      },
      "source": [
        "# 2.3. Преобразование Date в Datetime\r\n",
        "import datetime\r\n",
        "df2['Date'] = pd.to_datetime(df['Date'])\r\n",
        "\r\n",
        "#проверка\r\n",
        "df2.dtypes"
      ],
      "execution_count": null,
      "outputs": [
        {
          "output_type": "execute_result",
          "data": {
            "text/plain": [
              "Date         datetime64[ns]\n",
              "Open                float64\n",
              "High                float64\n",
              "Low                 float64\n",
              "Close               float64\n",
              "Volume                int64\n",
              "Adj Close           float64\n",
              "dtype: object"
            ]
          },
          "metadata": {
            "tags": []
          },
          "execution_count": 134
        }
      ]
    },
    {
      "cell_type": "code",
      "metadata": {
        "colab": {
          "base_uri": "https://localhost:8080/",
          "height": 419
        },
        "id": "DMkQGebNhZFV",
        "outputId": "387b5193-0783-49bf-f484-ff6f7b03b732"
      },
      "source": [
        "# 2.4. Дата в качестве индекса\r\n",
        "df2.set_index(['Date'])\r\n",
        "df2"
      ],
      "execution_count": null,
      "outputs": [
        {
          "output_type": "execute_result",
          "data": {
            "text/html": [
              "<div>\n",
              "<style scoped>\n",
              "    .dataframe tbody tr th:only-of-type {\n",
              "        vertical-align: middle;\n",
              "    }\n",
              "\n",
              "    .dataframe tbody tr th {\n",
              "        vertical-align: top;\n",
              "    }\n",
              "\n",
              "    .dataframe thead th {\n",
              "        text-align: right;\n",
              "    }\n",
              "</style>\n",
              "<table border=\"1\" class=\"dataframe\">\n",
              "  <thead>\n",
              "    <tr style=\"text-align: right;\">\n",
              "      <th></th>\n",
              "      <th>Date</th>\n",
              "      <th>Open</th>\n",
              "      <th>High</th>\n",
              "      <th>Low</th>\n",
              "      <th>Close</th>\n",
              "      <th>Volume</th>\n",
              "      <th>Adj Close</th>\n",
              "    </tr>\n",
              "  </thead>\n",
              "  <tbody>\n",
              "    <tr>\n",
              "      <th>0</th>\n",
              "      <td>2014-07-08</td>\n",
              "      <td>96.27</td>\n",
              "      <td>96.80</td>\n",
              "      <td>93.92</td>\n",
              "      <td>95.35</td>\n",
              "      <td>65130000</td>\n",
              "      <td>95.35</td>\n",
              "    </tr>\n",
              "    <tr>\n",
              "      <th>1</th>\n",
              "      <td>2014-07-07</td>\n",
              "      <td>94.14</td>\n",
              "      <td>95.99</td>\n",
              "      <td>94.10</td>\n",
              "      <td>95.97</td>\n",
              "      <td>56305400</td>\n",
              "      <td>95.97</td>\n",
              "    </tr>\n",
              "    <tr>\n",
              "      <th>2</th>\n",
              "      <td>2014-07-03</td>\n",
              "      <td>93.67</td>\n",
              "      <td>94.10</td>\n",
              "      <td>93.20</td>\n",
              "      <td>94.03</td>\n",
              "      <td>22891800</td>\n",
              "      <td>94.03</td>\n",
              "    </tr>\n",
              "    <tr>\n",
              "      <th>3</th>\n",
              "      <td>2014-07-02</td>\n",
              "      <td>93.87</td>\n",
              "      <td>94.06</td>\n",
              "      <td>93.09</td>\n",
              "      <td>93.48</td>\n",
              "      <td>28420900</td>\n",
              "      <td>93.48</td>\n",
              "    </tr>\n",
              "    <tr>\n",
              "      <th>4</th>\n",
              "      <td>2014-07-01</td>\n",
              "      <td>93.52</td>\n",
              "      <td>94.07</td>\n",
              "      <td>93.13</td>\n",
              "      <td>93.52</td>\n",
              "      <td>38170200</td>\n",
              "      <td>93.52</td>\n",
              "    </tr>\n",
              "    <tr>\n",
              "      <th>...</th>\n",
              "      <td>...</td>\n",
              "      <td>...</td>\n",
              "      <td>...</td>\n",
              "      <td>...</td>\n",
              "      <td>...</td>\n",
              "      <td>...</td>\n",
              "      <td>...</td>\n",
              "    </tr>\n",
              "    <tr>\n",
              "      <th>8460</th>\n",
              "      <td>1980-12-18</td>\n",
              "      <td>26.63</td>\n",
              "      <td>26.75</td>\n",
              "      <td>26.63</td>\n",
              "      <td>26.63</td>\n",
              "      <td>18362400</td>\n",
              "      <td>0.41</td>\n",
              "    </tr>\n",
              "    <tr>\n",
              "      <th>8461</th>\n",
              "      <td>1980-12-17</td>\n",
              "      <td>25.87</td>\n",
              "      <td>26.00</td>\n",
              "      <td>25.87</td>\n",
              "      <td>25.87</td>\n",
              "      <td>21610400</td>\n",
              "      <td>0.40</td>\n",
              "    </tr>\n",
              "    <tr>\n",
              "      <th>8462</th>\n",
              "      <td>1980-12-16</td>\n",
              "      <td>25.37</td>\n",
              "      <td>25.37</td>\n",
              "      <td>25.25</td>\n",
              "      <td>25.25</td>\n",
              "      <td>26432000</td>\n",
              "      <td>0.39</td>\n",
              "    </tr>\n",
              "    <tr>\n",
              "      <th>8463</th>\n",
              "      <td>1980-12-15</td>\n",
              "      <td>27.38</td>\n",
              "      <td>27.38</td>\n",
              "      <td>27.25</td>\n",
              "      <td>27.25</td>\n",
              "      <td>43971200</td>\n",
              "      <td>0.42</td>\n",
              "    </tr>\n",
              "    <tr>\n",
              "      <th>8464</th>\n",
              "      <td>1980-12-12</td>\n",
              "      <td>28.75</td>\n",
              "      <td>28.87</td>\n",
              "      <td>28.75</td>\n",
              "      <td>28.75</td>\n",
              "      <td>117258400</td>\n",
              "      <td>0.45</td>\n",
              "    </tr>\n",
              "  </tbody>\n",
              "</table>\n",
              "<p>8465 rows × 7 columns</p>\n",
              "</div>"
            ],
            "text/plain": [
              "           Date   Open   High    Low  Close     Volume  Adj Close\n",
              "0    2014-07-08  96.27  96.80  93.92  95.35   65130000      95.35\n",
              "1    2014-07-07  94.14  95.99  94.10  95.97   56305400      95.97\n",
              "2    2014-07-03  93.67  94.10  93.20  94.03   22891800      94.03\n",
              "3    2014-07-02  93.87  94.06  93.09  93.48   28420900      93.48\n",
              "4    2014-07-01  93.52  94.07  93.13  93.52   38170200      93.52\n",
              "...         ...    ...    ...    ...    ...        ...        ...\n",
              "8460 1980-12-18  26.63  26.75  26.63  26.63   18362400       0.41\n",
              "8461 1980-12-17  25.87  26.00  25.87  25.87   21610400       0.40\n",
              "8462 1980-12-16  25.37  25.37  25.25  25.25   26432000       0.39\n",
              "8463 1980-12-15  27.38  27.38  27.25  27.25   43971200       0.42\n",
              "8464 1980-12-12  28.75  28.87  28.75  28.75  117258400       0.45\n",
              "\n",
              "[8465 rows x 7 columns]"
            ]
          },
          "metadata": {
            "tags": []
          },
          "execution_count": 135
        }
      ]
    },
    {
      "cell_type": "code",
      "metadata": {
        "colab": {
          "base_uri": "https://localhost:8080/"
        },
        "id": "tWjAIPUAwYPb",
        "outputId": "a6ed1c26-dc61-491b-fcbb-ede7cf19f6d1"
      },
      "source": [
        "# 2.5. Повторяющиеся даты\r\n",
        "a = df2['Date'].shape[0]\r\n",
        "b = df2['Date'].unique().shape[0]\r\n",
        "if a - b > 0:\r\n",
        "  print('повторяющиеся даты есть')\r\n",
        "else:\r\n",
        "  print('повторяющихся дат нет')\r\n",
        "\r\n",
        "#проверка\r\n",
        "print('проверка', a, b)"
      ],
      "execution_count": null,
      "outputs": [
        {
          "output_type": "stream",
          "text": [
            "повторяющихся дат нет\n",
            "проверка 8465 8465\n"
          ],
          "name": "stdout"
        }
      ]
    },
    {
      "cell_type": "code",
      "metadata": {
        "colab": {
          "base_uri": "https://localhost:8080/"
        },
        "id": "Vd_EfwcJfE8D",
        "outputId": "368bd5fd-ca4d-4220-c2ca-37b308d9ed7d"
      },
      "source": [
        "# 2.6. Последние рабочие дни месяцев\r\n",
        "last_day = df2['Date'].max()\r\n",
        "first_day = df2['Date'].min()\r\n",
        "df_LastBusinessDays = pd.date_range(first_day, last_day.date() + datetime.timedelta (days = 30), freq='BM')\r\n",
        "print(df_LastBusinessDays)"
      ],
      "execution_count": null,
      "outputs": [
        {
          "output_type": "stream",
          "text": [
            "DatetimeIndex(['1980-12-31', '1981-01-30', '1981-02-27', '1981-03-31',\n",
            "               '1981-04-30', '1981-05-29', '1981-06-30', '1981-07-31',\n",
            "               '1981-08-31', '1981-09-30',\n",
            "               ...\n",
            "               '2013-10-31', '2013-11-29', '2013-12-31', '2014-01-31',\n",
            "               '2014-02-28', '2014-03-31', '2014-04-30', '2014-05-30',\n",
            "               '2014-06-30', '2014-07-31'],\n",
            "              dtype='datetime64[ns]', length=404, freq='BM')\n"
          ],
          "name": "stdout"
        }
      ]
    },
    {
      "cell_type": "code",
      "metadata": {
        "colab": {
          "base_uri": "https://localhost:8080/"
        },
        "id": "2nhT-LOuAEF6",
        "outputId": "e0b834d8-7226-4455-c7b8-e153121b7905"
      },
      "source": [
        "# 2.7. Разница в днях между первым и последним\r\n",
        "print('между первым и последним днём периода прошло', (last_day - first_day).days, 'дней')"
      ],
      "execution_count": null,
      "outputs": [
        {
          "output_type": "stream",
          "text": [
            "между первым и последним днём периода прошло 12261 дней\n"
          ],
          "name": "stdout"
        }
      ]
    },
    {
      "cell_type": "code",
      "metadata": {
        "colab": {
          "base_uri": "https://localhost:8080/"
        },
        "id": "9NaaAxMyIaSz",
        "outputId": "2b6115f0-f1d3-4202-f2ff-c4f3bd63304e"
      },
      "source": [
        "# 2.8. Месяцы в данных\r\n",
        "import math\r\n",
        "months = math.ceil(((last_day - first_day).days)/(365.25/12)) + 1\r\n",
        "print('в данных есть', months, 'месяцев')\r\n",
        "\r\n",
        "#пытался сделать следующим образом:\r\n",
        "#months = pd.Period(last_day, 'M') - pd.Period(first_day, 'M')\r\n",
        "#print('в данных есть', months, 'месяцев')\r\n",
        "#type(months)\r\n",
        "#столкнулся с тем, что:\r\n",
        "#а) Не могу прибавить один месяц, необходимый для корректного учёта и первого, и последнего периодов, к Пандас Дата Оффсет;\r\n",
        "#б) в pd.Period логичнее было бы использовать атрибут 'MS', учитывающий моменты начала нового месяца, но он почему-то вообще не работает."
      ],
      "execution_count": null,
      "outputs": [
        {
          "output_type": "stream",
          "text": [
            "в данных есть 404 месяцев\n"
          ],
          "name": "stdout"
        }
      ]
    },
    {
      "cell_type": "code",
      "metadata": {
        "colab": {
          "base_uri": "https://localhost:8080/",
          "height": 554
        },
        "id": "Fiw1T7GfdZ_B",
        "outputId": "2352d7f3-5f19-45ba-bd92-14f8be43ab6d"
      },
      "source": [
        "# 2.9. Постройте значение «Adj Close». Установите размер рисунка 13,5 х 9 дюймов.\r\n",
        "import matplotlib.pyplot as plt\r\n",
        "\r\n",
        "#убираем пробел из названия столбца\r\n",
        "df2.rename(columns={'Adj Close': 'Adj_Close'}, inplace=True)\r\n",
        "df2.columns\r\n",
        "\r\n",
        "x = df2.Date\r\n",
        "y = df2.Adj_Close\r\n",
        "plt.figure(figsize=(13.5, 9))\r\n",
        "plt.plot (x, y)"
      ],
      "execution_count": null,
      "outputs": [
        {
          "output_type": "execute_result",
          "data": {
            "text/plain": [
              "[<matplotlib.lines.Line2D at 0x7f3ce5f04cf8>]"
            ]
          },
          "metadata": {
            "tags": []
          },
          "execution_count": 14
        },
        {
          "output_type": "display_data",
          "data": {
            "image/png": "[encoded data removed]",
            "text/plain": [
              "<Figure size 972x648 with 1 Axes>"
            ]
          },
          "metadata": {
            "tags": [],
            "needs_background": "light"
          }
        }
      ]
    },
    {
      "cell_type": "code",
      "metadata": {
        "id": "nUwz2XQcsGr7"
      },
      "source": [
        "#2.x. Собственные вопросы и графики\r\n",
        "\r\n",
        "# Разница между закрытием и открытием\r\n",
        "df_IntradayGap = df2['Close'] - df2['Open']\r\n",
        "df_IntradayGap"
      ],
      "execution_count": null,
      "outputs": []
    },
    {
      "cell_type": "code",
      "metadata": {
        "id": "gUsvnj2sFNXS"
      },
      "source": [
        "# Разница между открытием и закрытием предыдущего дня\r\n",
        "df_InterdayGap = df2['Open'] - df2['Close'].shift(-1)\r\n",
        "df_InterdayGap"
      ],
      "execution_count": null,
      "outputs": []
    },
    {
      "cell_type": "code",
      "metadata": {
        "id": "dmKUZ9mjGKtt"
      },
      "source": [
        "# Разница между самой высокой и самой низкой ценой\r\n",
        "df_DiffMaxMin = df2['High'] - df2['Low']\r\n",
        "df_DiffMaxMin"
      ],
      "execution_count": null,
      "outputs": []
    },
    {
      "cell_type": "code",
      "metadata": {
        "colab": {
          "base_uri": "https://localhost:8080/",
          "height": 565
        },
        "id": "KDHzDAiAGrHU",
        "outputId": "335d13f7-afee-4e3a-a2e8-05bc84fd6988"
      },
      "source": [
        "# График объёма торгов\r\n",
        "import matplotlib.pyplot as plt\r\n",
        "\r\n",
        "x = df2.Date\r\n",
        "y = df2.Volume\r\n",
        "plt.figure(figsize=(13.5, 9))\r\n",
        "plt.plot (x, y)"
      ],
      "execution_count": null,
      "outputs": [
        {
          "output_type": "execute_result",
          "data": {
            "text/plain": [
              "[<matplotlib.lines.Line2D at 0x7f3cdcb05f60>]"
            ]
          },
          "metadata": {
            "tags": []
          },
          "execution_count": 198
        },
        {
          "output_type": "display_data",
          "data": {
            "image/png": "[encoded data removed]",
            "text/plain": [
              "<Figure size 972x648 with 1 Axes>"
            ]
          },
          "metadata": {
            "tags": [],
            "needs_background": "light"
          }
        }
      ]
    }
  ]
}